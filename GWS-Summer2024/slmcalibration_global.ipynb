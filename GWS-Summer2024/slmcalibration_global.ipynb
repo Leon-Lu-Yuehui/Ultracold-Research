{
 "cells": [
  {
   "cell_type": "code",
   "execution_count": null,
   "metadata": {},
   "outputs": [],
   "source": [
    "from slmfunctions.dependencies import *\n",
    "from slmfunctions.settings import *\n",
    "from slmfunctions.general import *\n",
    "from slmfunctions.imageprocessing import *\n",
    "from slmfunctions.phaseretrieval import *"
   ]
  },
  {
   "cell_type": "code",
   "execution_count": null,
   "metadata": {},
   "outputs": [],
   "source": [
    "from instrumental.drivers.cameras import uc480\n",
    "\n",
    "\n",
    "#%%%%%%%%%%%%%%%%%%% LOAD MANUFACTURER PROGRAMS AND DLLS- START %%%%%%%%%%%%%%%%%%%%%%%%%\n",
    "\n",
    "################################ MAKE SURE THE WINDOW SHOWS UP IN THE WRITE PLACE FOR THE DPI SETTINGS#############\n",
    "# Query DPI Awareness (Windows 10 and 8)\n",
    "import ctypes\n",
    "awareness = ctypes.c_int()\n",
    "errorCode = ctypes.windll.shcore.GetProcessDpiAwareness(0, ctypes.byref(awareness))\n",
    "print(awareness.value)\n",
    "# Set DPI Awareness  (Windows 10 and 8)\n",
    "errorCode = ctypes.windll.shcore.SetProcessDpiAwareness(2)\n",
    "# the argument is the awareness level, which can be 0, 1 or 2:\n",
    "# for 1-to-1 pixel control I seem to need it to be non-zero (I'm using level 2)\n",
    "\n",
    "# Set DPI Awareness  (Windows 7 and Vista)\n",
    "success = ctypes.windll.user32.SetProcessDPIAware()\n",
    "# behaviour on later OSes is undefined, although when I run it on my Windows 10 machine, it seems to work with effects identical to SetProcessDpiAwareness(1)\n",
    "#######################################################################################################################\n",
    "# Load the DLL\n",
    "# Blink_C_wrapper.dll, HdmiDisplay.dll, ImageGen.dll, freeglut.dll and glew64.dll\n",
    "# should all be located in the same directory as the program referencing the\n",
    "# library\n",
    "cdll.LoadLibrary(\"C:\\\\Program Files\\\\Meadowlark Optics\\\\Blink 1920 HDMI\\\\SDK\\\\Blink_C_wrapper\")\n",
    "slm_lib = CDLL(\"Blink_C_wrapper\")\n",
    "\n",
    "# Open the image generation library\n",
    "cdll.LoadLibrary(\"C:\\\\Program Files\\\\Meadowlark Optics\\\\Blink 1920 HDMI\\\\SDK\\\\ImageGen\")\n",
    "image_lib = CDLL(\"ImageGen\")\n",
    "#%%%%%%%%%%%%%%%%%%% LOAD MANUFACTURER PROGRAMS AND DLLS - FIN. %%%%%%%%%%%%%%%%%%%%%%%%%\n",
    "\n",
    "#%%%%%%%%%%%%%%%%%%% Setup calibration settings %%%%%%%%%%%%%%%%%%%%%%%%%%%%%%%%%%%%%%%%%\n",
    "\n",
    "# init camera\n",
    "instruments = uc480.list_instruments()\n",
    "cam = uc480.UC480_Camera(instruments[0])\n",
    "# Start camera\n",
    "cam.start_live_video(framerate = \"10Hz\")\n",
    "\n",
    "print(\"Camera Loaded\")\n",
    "\n",
    "RGB = c_uint(1)\n",
    "is_eight_bit_image = c_uint(0)\n",
    "# In the real run we'll do NumDataPoints = 255 to get all possible voltage values, but for this trial run 10 is fine.\n",
    " "
   ]
  },
  {
   "cell_type": "code",
   "execution_count": null,
   "metadata": {},
   "outputs": [],
   "source": []
  },
  {
   "cell_type": "code",
   "execution_count": null,
   "metadata": {},
   "outputs": [],
   "source": []
  },
  {
   "cell_type": "code",
   "execution_count": null,
   "metadata": {},
   "outputs": [],
   "source": [
    "## Align the camera - run until coordinates are roughly correct\n",
    "\n"
   ]
  },
  {
   "cell_type": "code",
   "execution_count": null,
   "metadata": {},
   "outputs": [],
   "source": [
    "## Confirm that tweezer mapping to array works fine\n",
    "\n",
    "\n",
    "#####################################################"
   ]
  },
  {
   "cell_type": "code",
   "execution_count": null,
   "metadata": {},
   "outputs": [],
   "source": [
    "# Run optimization based on image (intensity corrections only)"
   ]
  },
  {
   "cell_type": "code",
   "execution_count": null,
   "metadata": {},
   "outputs": [],
   "source": []
  },
  {
   "cell_type": "code",
   "execution_count": null,
   "metadata": {},
   "outputs": [],
   "source": []
  },
  {
   "cell_type": "code",
   "execution_count": null,
   "metadata": {},
   "outputs": [],
   "source": []
  }
 ],
 "metadata": {
  "language_info": {
   "name": "python"
  }
 },
 "nbformat": 4,
 "nbformat_minor": 2
}
