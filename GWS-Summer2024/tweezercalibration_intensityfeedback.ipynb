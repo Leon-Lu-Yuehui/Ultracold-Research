{
 "cells": [
  {
   "cell_type": "code",
   "execution_count": null,
   "metadata": {},
   "outputs": [],
   "source": [
    "from slmfunctions.dependencies import *\n",
    "from slmfunctions.settings import *\n",
    "from slmfunctions.simulation import *\n",
    "from slmfunctions.imageprocessing import *\n",
    "from slmfunctions.phaseretrieval import *\n",
    "from slmfunctions.slmsuite.slmsuite.holography.analysis import *\n",
    "\n",
    "from scipy.optimize import curve_fit\n",
    "\n",
    "\n",
    "# TURN ON FOR EXPERIMENT\n",
    "\n",
    "# from slmfunctions.slmsuite.slmsuite.hardware.slms.meadowlark import Meadowlark\n",
    "# # Meadowlark.info(verbose = True)\n",
    "# from slmfunctions.slmsuite.slmsuite.hardware.cameras.thorlabs import ThorCam\n",
    "# ThorCam.info(verbose=True)\n",
    "# from slmfunctions.slmsuite.slmsuite.hardware.cameraslms import FourierSLM\n",
    "\n",
    "# GLOBAL VARIABLES\n",
    "numpixels = 1300\n",
    "slmwidth = 1200\n",
    "slmheight = 1920\n",
    "\n"
   ]
  },
  {
   "cell_type": "code",
   "execution_count": null,
   "metadata": {},
   "outputs": [],
   "source": [
    "\n",
    "imgname = f\"3by3_9spacing_mag3\" # LOOKUP NAME\n",
    "load_dir = r'Z:\\nsong\\NeutralAtoms\\Ultracold-Research\\GWS-Summer2024\\storage'  ## filepath for storing phase patterns\n",
    "phaseimg_path = os.path.join(load_dir, f\"{imgname}_phase.bmp\")\n",
    "virtualintimg_path = os.path.join(load_dir, f\"{imgname}_virtualint.jpg\")\n",
    "intimg_path = os.path.join(load_dir, f\"{imgname}_int.jpg\")\n",
    "\n",
    "phaseimg = cp.zeros((numpixels, numpixels))\n",
    "slmphase = cp.array(Image.open(phaseimg_path).convert('L')) / 255*2*cp.pi - cp.pi\n",
    "phaseimg = slmphase[0:slmwidth, slmheight // 2 - slmwidth // 2: slmheight // 2 + slmwidth // 2]\n",
    "virtualintensityimg = (cp.array(Image.open(virtualintimg_path).convert('L')) / 255)\n",
    "intensityimg = (cp.array(Image.open(intimg_path).convert('L')).astype(np.uint8) / 255)"
   ]
  },
  {
   "cell_type": "code",
   "execution_count": null,
   "metadata": {},
   "outputs": [],
   "source": []
  },
  {
   "cell_type": "code",
   "execution_count": null,
   "metadata": {},
   "outputs": [],
   "source": []
  },
  {
   "cell_type": "code",
   "execution_count": null,
   "metadata": {},
   "outputs": [],
   "source": []
  },
  {
   "cell_type": "code",
   "execution_count": null,
   "metadata": {},
   "outputs": [],
   "source": []
  }
 ],
 "metadata": {
  "kernelspec": {
   "display_name": "base",
   "language": "python",
   "name": "python3"
  },
  "language_info": {
   "codemirror_mode": {
    "name": "ipython",
    "version": 3
   },
   "file_extension": ".py",
   "mimetype": "text/x-python",
   "name": "python",
   "nbconvert_exporter": "python",
   "pygments_lexer": "ipython3",
   "version": "3.9.7"
  }
 },
 "nbformat": 4,
 "nbformat_minor": 2
}
