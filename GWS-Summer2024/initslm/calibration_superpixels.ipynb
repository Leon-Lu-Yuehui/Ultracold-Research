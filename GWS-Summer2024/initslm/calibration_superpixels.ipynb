{
 "cells": [
  {
   "cell_type": "code",
   "execution_count": 1,
   "metadata": {},
   "outputs": [
    {
     "name": "stdout",
     "output_type": "stream",
     "text": [
      "cupy not installed. Using numpy.\n"
     ]
    }
   ],
   "source": [
    "%load_ext autoreload\n",
    "%autoreload 2\n",
    "%matplotlib inline\n",
    "\n",
    "import sys, os\n",
    "import warnings\n",
    "warnings.filterwarnings(\"ignore\")\n",
    "import numpy as np\n",
    "import matplotlib.pyplot as plt\n",
    "import matplotlib as mpl\n",
    "mpl.rc('image', cmap='Blues')\n",
    "from slmsuite.holography.algorithms import Hologram\n",
    "from slmsuite.hardware.slms.slm import SLM\n",
    "from slmsuite.hardware.cameras.camera import Camera\n",
    "from slmsuite.hardware.cameraslms import FourierSLM\n",
    "from slmsuite.holography.algorithms import SpotHologram\n",
    "import copy\n",
    "from IPython.display import Image\n",
    "import imageio\n",
    "import cv2\n",
    "import numpy as np\n",
    "import ctypes\n",
    "from ctypes import *\n",
    "from scipy import misc\n",
    "from time import sleep\n",
    "import csv\n",
    "from scipy.optimize import curve_fit\n",
    "import matplotlib.pyplot as plt\n",
    "from instrumental.drivers.cameras import uc480\n",
    "\n",
    "def plot(title=\"\"):\n",
    "    _, axs = plt.subplots(1, 3, figsize=(16,4))\n",
    "\n",
    "    if slm.phase_correction is None:\n",
    "        correction = 0 * slm.phase\n",
    "    else:\n",
    "        correction = np.mod(slm.phase_correction, 2*np.pi)\n",
    "\n",
    "    axs[0].set_title(\"Phase Correction\")\n",
    "    axs[0].imshow(\n",
    "        correction,\n",
    "        vmin=0,\n",
    "        vmax=2*np.pi,\n",
    "        interpolation=\"none\",\n",
    "        cmap=\"twilight\"\n",
    "    )\n",
    "\n",
    "    axs[1].set_title(\"Displayed Phase\")\n",
    "    axs[1].imshow(\n",
    "        np.mod(slm.phase, 2*np.pi),\n",
    "        vmin=0,\n",
    "        vmax=2*np.pi,\n",
    "        interpolation=\"none\",\n",
    "        cmap=\"twilight\"\n",
    "    )\n",
    "\n",
    "    axs[2].set_title(\"Camera Result\")\n",
    "    axs[2].imshow(cam.get_image())\n",
    "\n",
    "    plt.suptitle(title)\n",
    "\n",
    "    plt.show()"
   ]
  },
  {
   "cell_type": "code",
   "execution_count": 2,
   "metadata": {},
   "outputs": [
    {
     "name": "stdout",
     "output_type": "stream",
     "text": [
      "Validating DPI awareness...success\n",
      "Constructing Blink SDK...success\n",
      "Loading LUT file..."
     ]
    }
   ],
   "source": [
    "from slmsuite.hardware.slms.meadowlark import Meadowlark\n",
    "slm = Meadowlark(sdk_path=\"C:\\\\Program Files\\\\Meadowlark Optics\\\\Blink 1920 HDMI\", lut_path=\"C:\\\\Program Files\\\\Meadowlark Optics\\\\Blink 1920 HDMI\\\\LUT Files\\\\19x12_8bit_linearVoltage.lut\")"
   ]
  },
  {
   "cell_type": "code",
   "execution_count": 3,
   "metadata": {},
   "outputs": [
    {
     "name": "stdout",
     "output_type": "stream",
     "text": [
      "ThorCam serials:\n",
      "\"19001\"\n"
     ]
    },
    {
     "data": {
      "text/plain": [
       "['19001']"
      ]
     },
     "execution_count": 3,
     "metadata": {},
     "output_type": "execute_result"
    }
   ],
   "source": [
    "from slmsuite.hardware.cameras.thorlabs import ThorCam\n",
    "ThorCam.info(verbose=True)"
   ]
  },
  {
   "cell_type": "code",
   "execution_count": 4,
   "metadata": {},
   "outputs": [
    {
     "name": "stdout",
     "output_type": "stream",
     "text": [
      "TLCameraSDK initializing... success\n",
      "Looking for cameras... success\n",
      "ThorCam sn \"19001\" initializing... success\n"
     ]
    }
   ],
   "source": [
    "cam = ThorCam()"
   ]
  },
  {
   "cell_type": "code",
   "execution_count": 5,
   "metadata": {},
   "outputs": [],
   "source": [
    "fs = FourierSLM(cam, slm)\n"
   ]
  },
  {
   "cell_type": "code",
   "execution_count": 9,
   "metadata": {},
   "outputs": [
    {
     "name": "stderr",
     "output_type": "stream",
     "text": [
      " 76%|███████▌  | 38/50 [00:47<00:18,  1.58s/it]"
     ]
    }
   ],
   "source": [
    "## Now create the wavefront calibration file\n",
    "# Step 1: Calibrate the Camera Fourier domain\n",
    "cam.set_exposure(.01)\n",
    "\n",
    "fs.fourier_calibrate(\n",
    "    array_shape=[5, 5],           # Size of the calibration grid (Nx, Ny) [knm]\n",
    "    array_pitch=[20, 20],           # Pitch of the calibration grid (x, y) [knm]\n",
    "    plot=True,\n",
    ")"
   ]
  },
  {
   "cell_type": "code",
   "execution_count": 7,
   "metadata": {},
   "outputs": [
    {
     "ename": "AssertionError",
     "evalue": "",
     "output_type": "error",
     "traceback": [
      "\u001b[1;31m---------------------------------------------------------------------------\u001b[0m",
      "\u001b[1;31mAssertionError\u001b[0m                            Traceback (most recent call last)",
      "Cell \u001b[1;32mIn[7], line 3\u001b[0m\n\u001b[0;32m      1\u001b[0m \u001b[38;5;66;03m# Step 2: Test a single superpixel\u001b[39;00m\n\u001b[0;32m      2\u001b[0m cam\u001b[38;5;241m.\u001b[39mset_exposure(\u001b[38;5;241m2\u001b[39m)\n\u001b[1;32m----> 3\u001b[0m movie \u001b[38;5;241m=\u001b[39m \u001b[43mfs\u001b[49m\u001b[38;5;241;43m.\u001b[39;49m\u001b[43mwavefront_calibrate\u001b[49m\u001b[43m(\u001b[49m\n\u001b[0;32m      4\u001b[0m \u001b[43m    \u001b[49m\u001b[43minterference_point\u001b[49m\u001b[38;5;241;43m=\u001b[39;49m\u001b[43m(\u001b[49m\u001b[38;5;241;43m900\u001b[39;49m\u001b[43m,\u001b[49m\u001b[43m \u001b[49m\u001b[38;5;241;43m400\u001b[39;49m\u001b[43m)\u001b[49m\u001b[43m,\u001b[49m\n\u001b[0;32m      5\u001b[0m \u001b[43m    \u001b[49m\u001b[43mfield_point\u001b[49m\u001b[38;5;241;43m=\u001b[39;49m\u001b[43m(\u001b[49m\u001b[38;5;241;43m.25\u001b[39;49m\u001b[43m,\u001b[49m\u001b[43m \u001b[49m\u001b[38;5;241;43m0\u001b[39;49m\u001b[43m)\u001b[49m\u001b[43m,\u001b[49m\n\u001b[0;32m      6\u001b[0m \u001b[43m    \u001b[49m\u001b[43mfield_point_units\u001b[49m\u001b[38;5;241;43m=\u001b[39;49m\u001b[38;5;124;43m\"\u001b[39;49m\u001b[38;5;124;43mfreq\u001b[39;49m\u001b[38;5;124;43m\"\u001b[39;49m\u001b[43m,\u001b[49m\n\u001b[0;32m      7\u001b[0m \u001b[43m    \u001b[49m\u001b[43msuperpixel_size\u001b[49m\u001b[38;5;241;43m=\u001b[39;49m\u001b[38;5;241;43m50\u001b[39;49m\u001b[43m,\u001b[49m\n\u001b[0;32m      8\u001b[0m \u001b[43m    \u001b[49m\u001b[43mtest_superpixel\u001b[49m\u001b[38;5;241;43m=\u001b[39;49m\u001b[43m(\u001b[49m\u001b[38;5;241;43m16\u001b[39;49m\u001b[43m,\u001b[49m\u001b[43m \u001b[49m\u001b[38;5;241;43m16\u001b[39;49m\u001b[43m)\u001b[49m\u001b[43m,\u001b[49m\u001b[43m           \u001b[49m\u001b[38;5;66;43;03m# Testing mode\u001b[39;49;00m\n\u001b[0;32m      9\u001b[0m \u001b[43m    \u001b[49m\u001b[43mautoexposure\u001b[49m\u001b[38;5;241;43m=\u001b[39;49m\u001b[38;5;28;43;01mFalse\u001b[39;49;00m\u001b[43m,\u001b[49m\n\u001b[0;32m     10\u001b[0m \u001b[43m    \u001b[49m\u001b[43mplot\u001b[49m\u001b[38;5;241;43m=\u001b[39;49m\u001b[38;5;241;43m3\u001b[39;49m\u001b[43m                              \u001b[49m\u001b[38;5;66;43;03m# Special mode to generate a phase .gif\u001b[39;49;00m\n\u001b[0;32m     11\u001b[0m \u001b[43m)\u001b[49m\n\u001b[0;32m     13\u001b[0m \u001b[38;5;66;03m# Generate a phase .gif\u001b[39;00m\n\u001b[0;32m     14\u001b[0m imageio\u001b[38;5;241m.\u001b[39mmimsave(\u001b[38;5;124m'\u001b[39m\u001b[38;5;124mwavefront.gif\u001b[39m\u001b[38;5;124m'\u001b[39m, movie)\n",
      "File \u001b[1;32mc:\\cleen\\Apps\\Python3.11\\Lib\\site-packages\\slmsuite\\hardware\\cameraslms.py:649\u001b[0m, in \u001b[0;36mFourierSLM.wavefront_calibrate\u001b[1;34m(self, interference_point, field_point, field_point_units, superpixel_size, phase_steps, exclude_superpixels, autoexposure, test_superpixel, reference_superpixel, fresh_calibration, plot)\u001b[0m\n\u001b[0;32m    646\u001b[0m plot_everything \u001b[38;5;241m=\u001b[39m plot \u001b[38;5;241m>\u001b[39m\u001b[38;5;241m=\u001b[39m \u001b[38;5;241m2\u001b[39m\n\u001b[0;32m    648\u001b[0m \u001b[38;5;66;03m# Clean the points\u001b[39;00m\n\u001b[1;32m--> 649\u001b[0m base_point \u001b[38;5;241m=\u001b[39m np\u001b[38;5;241m.\u001b[39maround(\u001b[38;5;28;43mself\u001b[39;49m\u001b[38;5;241;43m.\u001b[39;49m\u001b[43mkxyslm_to_ijcam\u001b[49m\u001b[43m(\u001b[49m\u001b[43m[\u001b[49m\u001b[38;5;241;43m0\u001b[39;49m\u001b[43m,\u001b[49m\u001b[43m \u001b[49m\u001b[38;5;241;43m0\u001b[39;49m\u001b[43m]\u001b[49m\u001b[43m)\u001b[49m)\u001b[38;5;241m.\u001b[39mastype(\u001b[38;5;28mint\u001b[39m)\n\u001b[0;32m    650\u001b[0m interference_point \u001b[38;5;241m=\u001b[39m np\u001b[38;5;241m.\u001b[39maround(format_2vectors(interference_point))\u001b[38;5;241m.\u001b[39mastype(\u001b[38;5;28mint\u001b[39m)\n\u001b[0;32m    651\u001b[0m field_point \u001b[38;5;241m=\u001b[39m format_2vectors(field_point)\n",
      "File \u001b[1;32mc:\\cleen\\Apps\\Python3.11\\Lib\\site-packages\\slmsuite\\hardware\\cameraslms.py:449\u001b[0m, in \u001b[0;36mFourierSLM.kxyslm_to_ijcam\u001b[1;34m(self, kxy)\u001b[0m\n\u001b[0;32m    423\u001b[0m \u001b[38;5;28;01mdef\u001b[39;00m \u001b[38;5;21mkxyslm_to_ijcam\u001b[39m(\u001b[38;5;28mself\u001b[39m, kxy):\n\u001b[0;32m    424\u001b[0m \u001b[38;5;250m    \u001b[39m\u001b[38;5;124mr\u001b[39m\u001b[38;5;124;03m\"\"\"\u001b[39;00m\n\u001b[0;32m    425\u001b[0m \u001b[38;5;124;03m    Converts SLM Fourier space (``\"kxy\"``) to camera pixel space (``\"ij\"``).\u001b[39;00m\n\u001b[0;32m    426\u001b[0m \u001b[38;5;124;03m    For blaze vectors :math:`\\vec{x}` and camera pixel indices :math:`\\vec{y}`, computes:\u001b[39;00m\n\u001b[1;32m   (...)\u001b[0m\n\u001b[0;32m    447\u001b[0m \u001b[38;5;124;03m        If the fourier plane calibration does not exist.\u001b[39;00m\n\u001b[0;32m    448\u001b[0m \u001b[38;5;124;03m    \"\"\"\u001b[39;00m\n\u001b[1;32m--> 449\u001b[0m     \u001b[38;5;28;01massert\u001b[39;00m \u001b[38;5;28mself\u001b[39m\u001b[38;5;241m.\u001b[39mfourier_calibration \u001b[38;5;129;01mis\u001b[39;00m \u001b[38;5;129;01mnot\u001b[39;00m \u001b[38;5;28;01mNone\u001b[39;00m\n\u001b[0;32m    450\u001b[0m     \u001b[38;5;28;01mreturn\u001b[39;00m (\n\u001b[0;32m    451\u001b[0m         np\u001b[38;5;241m.\u001b[39mmatmul(\n\u001b[0;32m    452\u001b[0m             \u001b[38;5;28mself\u001b[39m\u001b[38;5;241m.\u001b[39mfourier_calibration[\u001b[38;5;124m\"\u001b[39m\u001b[38;5;124mM\u001b[39m\u001b[38;5;124m\"\u001b[39m],\n\u001b[0;32m    453\u001b[0m             format_2vectors(kxy) \u001b[38;5;241m-\u001b[39m \u001b[38;5;28mself\u001b[39m\u001b[38;5;241m.\u001b[39mfourier_calibration[\u001b[38;5;124m\"\u001b[39m\u001b[38;5;124ma\u001b[39m\u001b[38;5;124m\"\u001b[39m]\n\u001b[0;32m    454\u001b[0m         ) \u001b[38;5;241m+\u001b[39m \u001b[38;5;28mself\u001b[39m\u001b[38;5;241m.\u001b[39mfourier_calibration[\u001b[38;5;124m\"\u001b[39m\u001b[38;5;124mb\u001b[39m\u001b[38;5;124m\"\u001b[39m]\n\u001b[0;32m    455\u001b[0m     )\n",
      "\u001b[1;31mAssertionError\u001b[0m: "
     ]
    }
   ],
   "source": [
    "# Step 2: Test a single superpixel\n",
    "cam.set_exposure(.1)\n",
    "\n",
    "movie = fs.wavefront_calibrate(\n",
    "    interference_point=(900, 400),\n",
    "    field_point=(.25, 0),\n",
    "    field_point_units=\"freq\",\n",
    "    superpixel_size=50,\n",
    "    test_superpixel=(16, 16),           # Testing mode\n",
    "    plot=3                              # Special mode to generate a phase .gif\n",
    ")\n",
    "\n",
    "# Generate a phase .gif\n",
    "imageio.mimsave('wavefront.gif', movie)\n",
    "Image(filename=\"wavefront.gif\")"
   ]
  },
  {
   "cell_type": "code",
   "execution_count": null,
   "metadata": {},
   "outputs": [],
   "source": [
    "fs.wavefront_calibrate(\n",
    "    interference_point=(1000, 700),\n",
    "    field_point=(.25, 0),\n",
    "    field_point_units=\"freq\",\n",
    "    superpixel_size=50,\n",
    "    autoexposure=False\n",
    ")\n",
    "\n",
    "fs.save_wavefront_calibration()\n"
   ]
  },
  {
   "cell_type": "code",
   "execution_count": null,
   "metadata": {},
   "outputs": [],
   "source": [
    "fs.process_wavefront_calibration(r2_threshold=.9, smooth=True, plot=True)\n"
   ]
  },
  {
   "cell_type": "code",
   "execution_count": null,
   "metadata": {},
   "outputs": [],
   "source": []
  },
  {
   "cell_type": "code",
   "execution_count": null,
   "metadata": {},
   "outputs": [],
   "source": []
  },
  {
   "cell_type": "code",
   "execution_count": null,
   "metadata": {},
   "outputs": [],
   "source": []
  },
  {
   "cell_type": "code",
   "execution_count": null,
   "metadata": {},
   "outputs": [],
   "source": []
  },
  {
   "cell_type": "code",
   "execution_count": null,
   "metadata": {},
   "outputs": [],
   "source": [
    "\n",
    "fs.load_wavefront_calibration(plot=True);  "
   ]
  }
 ],
 "metadata": {
  "kernelspec": {
   "display_name": "base",
   "language": "python",
   "name": "python3"
  },
  "language_info": {
   "codemirror_mode": {
    "name": "ipython",
    "version": 3
   },
   "file_extension": ".py",
   "mimetype": "text/x-python",
   "name": "python",
   "nbconvert_exporter": "python",
   "pygments_lexer": "ipython3",
   "version": "3.11.1"
  }
 },
 "nbformat": 4,
 "nbformat_minor": 2
}
