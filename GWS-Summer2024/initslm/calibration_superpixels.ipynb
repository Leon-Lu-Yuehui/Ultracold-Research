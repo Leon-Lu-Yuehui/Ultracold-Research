{
 "cells": [
  {
   "cell_type": "code",
   "execution_count": null,
   "metadata": {},
   "outputs": [],
   "source": [
    "%load_ext autoreload\n",
    "%autoreload 2\n",
    "%matplotlib inline\n",
    "\n",
    "import sys, os\n",
    "import warnings\n",
    "warnings.filterwarnings(\"ignore\")\n",
    "import numpy as np\n",
    "import matplotlib.pyplot as plt\n",
    "import matplotlib as mpl\n",
    "mpl.rc('image', cmap='Blues')\n",
    "from slmsuite.holography.algorithms import Hologram\n",
    "from slmsuite.hardware.slms.slm import SLM\n",
    "from slmsuite.hardware.cameras.camera import Camera\n",
    "from slmsuite.hardware.cameraslms import FourierSLM\n",
    "from slmsuite.holography.algorithms import SpotHologram\n",
    "import copy\n",
    "from IPython.display import Image\n",
    "import imageio\n",
    "\n",
    "def plot(title=\"\"):\n",
    "    _, axs = plt.subplots(1, 3, figsize=(16,4))\n",
    "\n",
    "    if slm.phase_correction is None:\n",
    "        correction = 0 * slm.phase\n",
    "    else:\n",
    "        correction = np.mod(slm.phase_correction, 2*np.pi)\n",
    "\n",
    "    axs[0].set_title(\"Phase Correction\")\n",
    "    axs[0].imshow(\n",
    "        correction,\n",
    "        vmin=0,\n",
    "        vmax=2*np.pi,\n",
    "        interpolation=\"none\",\n",
    "        cmap=\"twilight\"\n",
    "    )\n",
    "\n",
    "    axs[1].set_title(\"Displayed Phase\")\n",
    "    axs[1].imshow(\n",
    "        np.mod(slm.phase, 2*np.pi),\n",
    "        vmin=0,\n",
    "        vmax=2*np.pi,\n",
    "        interpolation=\"none\",\n",
    "        cmap=\"twilight\"\n",
    "    )\n",
    "\n",
    "    axs[2].set_title(\"Camera Result\")\n",
    "    axs[2].imshow(cam.get_image())\n",
    "\n",
    "    plt.suptitle(title)\n",
    "\n",
    "    plt.show()"
   ]
  },
  {
   "cell_type": "code",
   "execution_count": null,
   "metadata": {},
   "outputs": [],
   "source": [
    "from slmsuite.hardware.slms.meadowlark import Meadowlark\n",
    "Meadowlark.info(verbose=True)\n",
    "from slmsuite.hardware.cameras.thorlabs import ThorCam\n",
    "ThorCam.info(verbose=True)"
   ]
  },
  {
   "cell_type": "code",
   "execution_count": null,
   "metadata": {},
   "outputs": [],
   "source": [
    "# Fill with own camera info from above cell\n",
    "slm = Meadowlark(slm_number=1, display_number=2, wav_um=.633, settle_time_s=.3)\n",
    "cam = ThorCam(serial=\"02C5V\", verbose=True)\n",
    "fs = FourierSLM(cam, slm)\n"
   ]
  },
  {
   "cell_type": "code",
   "execution_count": null,
   "metadata": {},
   "outputs": [],
   "source": [
    "## Now create the wavefront calibration file\n",
    "# Step 1: Calibrate the Camera Fourier domain\n",
    "\n",
    "cam.set_exposure(.05)\n",
    "fs.fourier_calibrate(\n",
    "    array_shape=[30, 20],           # Size of the calibration grid (Nx, Ny) [knm]\n",
    "    array_pitch=[30, 40],           # Pitch of the calibration grid (x, y) [knm]\n",
    "    plot=True\n",
    ")"
   ]
  },
  {
   "cell_type": "code",
   "execution_count": null,
   "metadata": {},
   "outputs": [],
   "source": [
    "# Step 2: Test a single superpixel\n",
    "cam.set_exposure(.2)\n",
    "movie = fs.wavefront_calibrate(\n",
    "    interference_point=(900, 400),\n",
    "    field_point=(.25, 0),\n",
    "    field_point_units=\"freq\",\n",
    "    superpixel_size=50,\n",
    "    test_superpixel=(16, 16),           # Testing mode\n",
    "    autoexposure=False,\n",
    "    plot=3                              # Special mode to generate a phase .gif\n",
    ")\n",
    "\n",
    "# Generate a phase .gif\n",
    "imageio.mimsave('wavefront.gif', movie)\n",
    "Image(filename=\"wavefront.gif\")"
   ]
  },
  {
   "cell_type": "code",
   "execution_count": null,
   "metadata": {},
   "outputs": [],
   "source": [
    "fs.wavefront_calibrate(\n",
    "    interference_point=(1000, 700),\n",
    "    field_point=(.25, 0),\n",
    "    field_point_units=\"freq\",\n",
    "    superpixel_size=50,\n",
    "    autoexposure=False\n",
    ")\n",
    "\n",
    "fs.save_wavefront_calibration()\n"
   ]
  },
  {
   "cell_type": "code",
   "execution_count": null,
   "metadata": {},
   "outputs": [],
   "source": [
    "fs.process_wavefront_calibration(r2_threshold=.9, smooth=True, plot=True)\n"
   ]
  },
  {
   "cell_type": "code",
   "execution_count": null,
   "metadata": {},
   "outputs": [],
   "source": []
  },
  {
   "cell_type": "code",
   "execution_count": null,
   "metadata": {},
   "outputs": [],
   "source": []
  },
  {
   "cell_type": "code",
   "execution_count": null,
   "metadata": {},
   "outputs": [],
   "source": []
  },
  {
   "cell_type": "code",
   "execution_count": null,
   "metadata": {},
   "outputs": [],
   "source": []
  },
  {
   "cell_type": "code",
   "execution_count": null,
   "metadata": {},
   "outputs": [],
   "source": [
    "\n",
    "fs.load_wavefront_calibration(plot=True);  "
   ]
  }
 ],
 "metadata": {
  "kernelspec": {
   "display_name": "base",
   "language": "python",
   "name": "python3"
  },
  "language_info": {
   "name": "python",
   "version": "3.9.7"
  }
 },
 "nbformat": 4,
 "nbformat_minor": 2
}
