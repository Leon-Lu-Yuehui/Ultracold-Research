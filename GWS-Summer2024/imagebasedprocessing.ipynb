{
 "cells": [
  {
   "cell_type": "code",
   "execution_count": null,
   "metadata": {},
   "outputs": [],
   "source": [
    "from slmfunctions.dependencies import *\n",
    "from slmfunctions.settings import *\n",
    "from slmfunctions.general import *\n",
    "from slmfunctions.imageprocessing import *\n",
    "from slmfunctions.phaseretrieval import *"
   ]
  },
  {
   "cell_type": "code",
   "execution_count": null,
   "metadata": {},
   "outputs": [],
   "source": [
    "# Choose which phase pattern to input. \n",
    "\n"
   ]
  },
  {
   "cell_type": "code",
   "execution_count": null,
   "metadata": {},
   "outputs": [],
   "source": []
  },
  {
   "cell_type": "code",
   "execution_count": null,
   "metadata": {},
   "outputs": [],
   "source": []
  },
  {
   "cell_type": "code",
   "execution_count": null,
   "metadata": {},
   "outputs": [],
   "source": [
    "## Initialize the SLM and Camera\n",
    "awareness = ctypes.c_int()\n",
    "errorCode = ctypes.windll.shcore.GetProcessDpiAwareness(0, ctypes.byref(awareness))\n",
    "print(awareness.value)\n",
    "errorCode = ctypes.windll.shcore.SetProcessDpiAwareness(2)\n",
    "success = ctypes.windll.user32.SetProcessDPIAware()\n",
    "cdll.LoadLibrary(\"C:\\\\Program Files\\\\Meadowlark Optics\\\\Blink 1920 HDMI\\\\SDK\\\\Blink_C_wrapper\")\n",
    "slm_lib = CDLL(\"Blink_C_wrapper\")\n",
    "cdll.LoadLibrary(\"C:\\\\Program Files\\\\Meadowlark Optics\\\\Blink 1920 HDMI\\\\SDK\\\\ImageGen\")\n",
    "image_lib = CDLL(\"ImageGen\")\n",
    "RGB = c_uint(1)\n",
    "is_eight_bit_image = c_uint(0)\n",
    "NumDataPoints = 10\n",
    "NumRegions = 1 ## If we need regional calibration, set this to 64\n",
    "slm_lib.Create_SDK(c_uint(1)) # Initialize SDK, c_unit(1) means true\n",
    "print(\"Created SDK\")\n",
    "\n",
    "numFrames = 5\n",
    "height = c_uint(slm_lib.Get_Height())\n",
    "width = c_uint(slm_lib.Get_Width())\n",
    "depth = c_uint(slm_lib.Get_Depth())\n",
    "center_x = c_uint(width.value//2)\n",
    "center_y = c_uint(height.value//2)\n",
    "success = 0\n",
    "success = slm_lib.Load_lut(\"C:\\\\Program Files\\\\Meadowlark Optics\\\\Blink 1920 HDMI\\\\LUT Files\\\\slmobjectiveglobal.lut\")\n",
    "print(\"Load LUT success\")\n",
    "\n",
    "# init camera\n",
    "instruments = uc480.list_instruments()\n",
    "cam = uc480.UC480_Camera(instruments[0])\n",
    "cam.start_live_video(framerate = \"10Hz\")\n",
    "print(\"Camera Loaded\")\n",
    "###################################"
   ]
  },
  {
   "cell_type": "code",
   "execution_count": null,
   "metadata": {},
   "outputs": [],
   "source": [
    "## Align the camera - run until coordinates are roughly correct\n",
    "\n"
   ]
  },
  {
   "cell_type": "code",
   "execution_count": null,
   "metadata": {},
   "outputs": [],
   "source": [
    "## Confirm that tweezer mapping to array works fine\n",
    "\n",
    "\n",
    "#####################################################"
   ]
  },
  {
   "cell_type": "code",
   "execution_count": null,
   "metadata": {},
   "outputs": [],
   "source": [
    "# Run optimization based on image (intensity corrections only)"
   ]
  },
  {
   "cell_type": "code",
   "execution_count": null,
   "metadata": {},
   "outputs": [],
   "source": []
  },
  {
   "cell_type": "code",
   "execution_count": null,
   "metadata": {},
   "outputs": [],
   "source": []
  },
  {
   "cell_type": "code",
   "execution_count": null,
   "metadata": {},
   "outputs": [],
   "source": []
  }
 ],
 "metadata": {
  "language_info": {
   "name": "python"
  }
 },
 "nbformat": 4,
 "nbformat_minor": 2
}
