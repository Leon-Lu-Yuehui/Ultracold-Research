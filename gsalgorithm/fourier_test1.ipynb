{
 "cells": [
  {
   "cell_type": "code",
   "execution_count": 1,
   "metadata": {},
   "outputs": [],
   "source": [
    "import numpy as np\n",
    "import matplotlib.pyplot as plt\n",
    "import math\n",
    "from PIL import Image\n",
    "\n",
    "import scipy.fftpack as sfft\n",
    "import random\n",
    "import imageio\n",
    "import sys\n",
    "from pylab import *\n",
    "from mpl_toolkits.mplot3d import Axes3D\n",
    "### 1920 x 1200 SLM\n",
    "### pixel values range from 0-> 255, corresponding to a 0->2pi phase shift."
   ]
  },
  {
   "cell_type": "code",
   "execution_count": 2,
   "metadata": {},
   "outputs": [],
   "source": [
    "### Create diffraction grating\n",
    "precision = 2 ### Multiplier to get better tunability\n",
    "blank = np.empty((1920*precision,1200*precision),dtype=float)\n",
    "grating = blank.copy()\n",
    "width_pix = 8 ### choose this to be over 8, ideally\n",
    "length_pix = 8 ### choose this to be over 8, ideally\n",
    "numcols = np.size(grating[0])  ## should be 1920\n",
    "numrows = np.size(grating[...,0])  ## should be 1200\n",
    "max_iter = 30 ### for GS algo\n",
    "\n",
    "### Settings for image generation\n",
    "numframes = 30 # set number of frames in movie\n",
    "min_width_pix = 8\n",
    "min_length_pix = 8\n",
    "stepsize_width_pix = 1 # must be integer\n",
    "stepsize_length_pix = 1 # must be integer\n",
    "\n",
    "\n",
    "def Ger_Sax_algo(InputImg, width, height, max_iter):\n",
    "    TwoDImg = np.reshape(InputImg, (-1, width))\n",
    "\n",
    "    pm_s = np.random.rand(height, width)\n",
    "    pm_f = np.ones((height, width))\n",
    "    am_s = np.sqrt(TwoDImg) / 2\n",
    "    am_f = np.ones((height, width))\n",
    "\n",
    "    signal_s = am_s*np.exp(pm_s * 1j)\n",
    "\n",
    "    for iter in range(max_iter):\n",
    "        signal_f = np.fft.fftshift(np.fft.fft2(np.fft.fftshift(signal_s)))\n",
    "        pm_f = np.angle(signal_f)\n",
    "        signal_f = am_f*np.exp(pm_f * 1j)\n",
    "        signal_s = np.fft.ifftshift(np.fft.ifft2(np.fft.ifftshift(signal_f)))\n",
    "        pm_s = np.angle(signal_s)\n",
    "        signal_s = am_s*np.exp(pm_s * 1j)\n",
    "\n",
    "    phase_mask = np.uint8(((pm_f/(2*np.pi))*256)+128)\n",
    "    ### flat_phase = phase_mask.flatten()\n",
    "\n",
    "    return phase_mask\n",
    "\n",
    "### SLM Direct Images\n",
    "# Create an SLM grating with sinusoidal pixel values\n",
    "\n",
    "def gen_tweezers(xrad, yrad, xspacing, yspacing, xmin, xmax, ymin,ymax):\n",
    "    simplegrating = np.zeros(np.shape(blank))\n",
    "\n",
    "    for i in range(xmin,xmax):\n",
    "        for j in range(ymin,ymax):\n",
    "            pixcoord = 0\n",
    "            distj1 = j  % yspacing\n",
    "            disti1 = i  % xspacing\n",
    "            distj2 = (yspacing - j) % yspacing\n",
    "            disti2 = (xspacing - i) % xspacing\n",
    "            distj = min((distj1, distj2))\n",
    "            disti = min((disti1, disti2))\n",
    "            if (distj < xrad) and (disti < yrad):\n",
    "                pixcoord = 255\n",
    "            simplegrating[j,i] = pixcoord\n",
    "    return simplegrating\n",
    "\n",
    "def gen_tweezers_precise(xrad, yrad, xspacing, yspacing, xstart, xend, ystart,yend):\n",
    "    simplegrating = np.zeros(np.shape(blank))\n",
    "\n",
    "    for i in range(xstart, xend):\n",
    "        for j in range(ystart,yend):\n",
    "            pixcoord = 0\n",
    "            distj1 = (j - ystart)  % yspacing\n",
    "            disti1 = (i - xstart) % xspacing\n",
    "            distj2 = (yspacing - (j-ystart)) % yspacing\n",
    "            disti2 = (xspacing - (i-xstart)) % xspacing\n",
    "            distj = min((distj1, distj2))\n",
    "            disti = min((disti1, disti2))\n",
    "            if (distj < xrad) and (disti < yrad):\n",
    "                pixcoord = 255\n",
    "            simplegrating[j,i] = pixcoord\n",
    "    return simplegrating\n",
    "\n",
    "def gen_circlemask(radius):\n",
    "    simplegrating = np.zeros(np.shape(blank))\n",
    "    for i in range(1920 * precision):\n",
    "        for j in range(1200 * precision):\n",
    "            pixcoord = 0\n",
    "            if (((1920 * precision)/2 - i)**2 + ((1200 * precision)/2 - j)**2)**0.5 < radius:\n",
    "                pixcoord = 255\n",
    "            simplegrating[i,j] = pixcoord\n",
    "    return simplegrating\n",
    "\n",
    "\n",
    "### Image writing!\n",
    "\n",
    "def f_grating(pattern):\n",
    "    return Ger_Sax_algo(pattern, numcols, numrows, max_iter)\n",
    "\n",
    "def writeimg(array, name):\n",
    "    data = Image.fromarray(array).convert('RGB')\n",
    "    data.save(name+\".bmp\")\n",
    "    return print(name+\" saved succesfully.\")\n",
    "\n",
    "def print_1Dimgs(function, numframes, min_width_pix, stepsize_pix):\n",
    "    width = min_width_pix\n",
    "    for i in range(numframes):\n",
    "        name = str(100+i)\n",
    "        array = function(width)\n",
    "        writeimg(array, name)\n",
    "        width += stepsize_pix\n",
    "    return print(\"Image writing successful.\")\n",
    "\n",
    "def print_2Dimgs(function, numframes, min_width_pix, min_length_pix, stepsize_w_pix, stepsize_l_pix):\n",
    "    width = min_width_pix\n",
    "    length = min_length_pix\n",
    "    for i in range(numframes):\n",
    "        name = str(100+i)\n",
    "        array = function(width, length)\n",
    "        writeimg(array, name)\n",
    "        width += stepsize_w_pix\n",
    "        length += stepsize_l_pix\n",
    "    return print(\"Image writing successful.\")\n",
    "\n",
    "def print_f_1Dimgs(function, numframes, min_width_pix, stepsize_pix):\n",
    "    width = min_width_pix\n",
    "    for i in range(numframes):\n",
    "        name = str(100+i)\n",
    "        array = function(width)\n",
    "        farray = f_grating(array)\n",
    "        writeimg(farray, name)\n",
    "        width += stepsize_pix\n",
    "    return print(\"Image writing successful.\")\n",
    "\n",
    "def print_f_2Dimgs(function, numframes, min_width_pix, min_length_pix, stepsize_w_pix, stepsize_l_pix):\n",
    "    width = min_width_pix\n",
    "    length = min_length_pix\n",
    "    for i in range(numframes):\n",
    "        name = str(100+i)\n",
    "        array = function(width, length)\n",
    "        farray = f_grating(array)\n",
    "        writeimg(farray, name)\n",
    "        width += stepsize_w_pix\n",
    "        length += stepsize_l_pix\n",
    "    return print(\"Image writing successful.\")\n",
    "\n",
    "\n",
    "def slm_2D_simulator(function, maxiter, min_width_pix, min_length_pix):\n",
    "    slmarray = function(min_width_pix, min_length_pix)\n",
    "    slmimage = Ger_Sax_algo(slmarray, numcols, numrows, maxiter)\n",
    "    fourierimage = np.abs(np.fft.fft2(slmimage))\n",
    "    fourierimage = fourierimage/np.max(fourierimage)*255\n",
    "    writeimg(fourierimage,\"simulim\")\n",
    "    return print(\"Print successful\")\n"
   ]
  },
  {
   "cell_type": "code",
   "execution_count": 12,
   "metadata": {},
   "outputs": [
    {
     "name": "stdout",
     "output_type": "stream",
     "text": [
      "test2 saved succesfully.\n"
     ]
    }
   ],
   "source": [
    "# test 1\n",
    "# arr = gen_tweezers(3, 3, 33, 33, int(precision*(1200/8)*2), int(precision*(1200/8)*6), int(precision*(1920/16)*2), int(precision*(1920/16)*7))\n",
    "\n",
    "# arr1 = gen_tweezers(1,1, int(precision*9 * 1200/1920), precision*9, int(precision*(1200/16)*6), int(precision*(1200/16)*10), int(precision*(1920/16)*5), int(precision*(1920/16)*7.5))\n",
    "arr1 = gen_tweezers_precise(30,30, int(precision*100 * 1200/1920), precision*100, 0, 1000, 100, 1000)\n",
    "\n",
    "target = writeimg(arr1, \"test2\")"
   ]
  },
  {
   "cell_type": "code",
   "execution_count": 25,
   "metadata": {},
   "outputs": [
    {
     "name": "stdout",
     "output_type": "stream",
     "text": [
      "circlemask saved succesfully.\n"
     ]
    }
   ],
   "source": [
    "mask = gen_circlemask(600)\n",
    "maskwrite = writeimg(mask, \"circlemask\")"
   ]
  },
  {
   "cell_type": "code",
   "execution_count": 39,
   "metadata": {},
   "outputs": [
    {
     "name": "stdout",
     "output_type": "stream",
     "text": [
      "test_p saved succesfully.\n",
      "test saved succesfully.\n"
     ]
    }
   ],
   "source": [
    "mask1 = gen_circlemask(900)\n",
    "maskwrite1 = writeimg(mask1, \"test_p\")\n",
    "mask2 = set_circlemask(mask1, 100)\n",
    "maskwrite2 = writeimg(mask2, \"test\")"
   ]
  },
  {
   "cell_type": "code",
   "execution_count": 5,
   "metadata": {},
   "outputs": [],
   "source": [
    "### Testing Ger-Sax algorithm\n",
    "\n",
    "def epsilon(u_int, target_im):\n",
    "    max = np.max(u_int[target_im==1]) #Max value of the obtained intensity at the tweezers position\n",
    "    min = np.min(u_int[target_im==1]) #Min value of the obtained intensity at the tweezers position\n",
    "    error = (max-min)/(max+min)\n",
    "    #print(\"Error :\", error)\n",
    "    return error\n",
    "\n",
    "def join_phase_ampl(phase,ampl):\n",
    "    tmp=np.zeros((ampl.shape[0],ampl.shape[1]),dtype=complex)\n",
    "    tmp = ampl*np.exp(phase*1j)\n",
    "    return tmp\n",
    "\n",
    "def Beam_shape(sizex,sizey,sigma,mu):\n",
    "    x, y = np.meshgrid(np.linspace(-1,1,sizex), np.linspace(-1,1,sizey))\n",
    "    d = np.sqrt(x*x+y*y)\n",
    "    g = np.exp(-( (d-mu)**2 / ( 2.0 * sigma**2 ) ) )\n",
    "    return g\n",
    "\n",
    "def surface_plot (matrix, **kwargs):\n",
    "    # acquire the cartesian coordinate matrices from the matrix\n",
    "    # x is cols, y is rows\n",
    "    (x, y) = np.meshgrid(np.arange(matrix.shape[0]), np.arange(matrix.shape[1]))\n",
    "    fig = plt.figure()\n",
    "    ax = fig.add_subplot(111, projection='3d')\n",
    "    surf = ax.plot_surface(x, y, matrix, **kwargs)\n",
    "    return (fig, ax, surf)\n",
    "\n",
    "def norm(matrix):\n",
    "    min=np.min(matrix);max=np.max(matrix)\n",
    "    return((matrix-min)/(max-min))\n",
    "\n",
    "def bin_norm_clip(matrix):  # Function that clips the values to 0-255 (SLM standard)\n",
    "    matrix=np.array(target_im, dtype=np.uint8)\n",
    "    matrix=norm(matrix)\n",
    "    return(matrix)\n",
    "\n",
    "\n",
    "def weights(w,target_im,w_prev,std_int): # This weight function works only where the intensity == 1 (discrete tweezers)\n",
    "    w[target_im==1] = np.sqrt((target_im[target_im==1] / std_int[target_im==1])) * w_prev[target_im==1]\n",
    "    return (w)\n",
    "\n",
    "def discretize_phase(phase):\n",
    "    phase=np.round((phase+np.pi)*255/(2*np.pi))\n",
    "    return(phase)\n",
    "\n",
    "def undiscretize_phase(phase):\n",
    "    phase=phase/255*(2*np.pi)-np.pi\n",
    "    return(phase)\n",
    "\n",
    "def set_circlemask(inputmatrix, radius):\n",
    "    copy = inputmatrix\n",
    "    for i in range(1920):\n",
    "        for j in range(1200):\n",
    "            pixcoord = inputmatrix[i,j]\n",
    "            if (((1920)/2 - i)**2 + ((1200)/2 - j)**2)**0.5 > radius:\n",
    "                pixcoord = 0\n",
    "            copy[i,j] = pixcoord\n",
    "    return copy"
   ]
  },
  {
   "cell_type": "code",
   "execution_count": 7,
   "metadata": {},
   "outputs": [
    {
     "data": {
      "image/png": "[encoded data removed]",
      "text/plain": [
       "<Figure size 640x480 with 7 Axes>"
      ]
     },
     "metadata": {},
     "output_type": "display_data"
    }
   ],
   "source": [
    "\n",
    "target_im = np.asarray(Image.open(\"3x_precision_space9.bmp\"))\n",
    "newtar = np.zeros((1920*precision,1200*precision))\n",
    "\n",
    "for i in range(1920*precision):\n",
    "  for j in range(1200*precision):\n",
    "      newtar[i,j] = 0\n",
    "      if target_im[i,j,1] > 0.1:\n",
    "        newtar[i,j] = 1\n",
    "target_im = newtar\n",
    "\n",
    "SIZE_X, SIZE_Y = 1920, 1200\n",
    "fig, axs = plt.subplots(2,2)\n",
    "im0=axs[0,0].imshow(target_im)\n",
    "plt.colorbar(im0,ax=axs[0,0])\n",
    "axs[0,0].set_title('Target image')\n",
    "\n",
    "\n",
    "# The initial weights are all = 1.\n",
    "n_rep = 40\n",
    "w=np.ones((SIZE_X*precision,SIZE_Y*precision))\n",
    "# The amplitude in the fourier plane is a Gaussian (beam)\n",
    "### radius\n",
    "radiusinput = 650\n",
    "PS_shape=Beam_shape(SIZE_X,SIZE_Y,255,0)\n",
    "w_prev=target_im\n",
    "\n",
    "errors=[]\n",
    "u=np.zeros((SIZE_X,SIZE_Y),dtype=complex)\n",
    "phase=2*np.pi*np.random.rand(SIZE_X,SIZE_Y)-np.pi\n",
    "\n",
    "for rep in range(n_rep):\n",
    "    # Fourier plane, random phase (at the round 1) and gaussian beam\n",
    "    u=join_phase_ampl(phase,PS_shape.T)\n",
    "        # To the real plane...\n",
    "    u = sfft.fft2(u)\n",
    "    u = set_circlemask(sfft.fftshift(u), radiusinput)\n",
    "    uscaled = np.repeat(np.repeat(u, precision, axis=0), precision, axis=1)\n",
    "    # Calculate the intensity\n",
    "    int=np.square(np.abs(uscaled))\n",
    "    # Let's renormalize the intensity in the range [0,1]\n",
    "    std_int=norm(int)\n",
    "    # What's the distance from the target intensity?\n",
    "    errors.append(epsilon(std_int, target_im))\n",
    "    phase=np.angle(uscaled)\n",
    "    ## Here I don't care about the discretization of the phase because we're in real space (that is actually the fourier plane for the code)\n",
    "    #Generate weights and use them to obtain u\n",
    "    w=weights(w,target_im,w_prev,std_int)\n",
    "    w=norm(w)\n",
    "    w_prev=w\n",
    "    uscaled=join_phase_ampl(phase,w)\n",
    "    # Back to our fourier plane\n",
    "    reshape_u = uscaled.reshape(1920,precision,1200,precision)\n",
    "    u = np.mean(reshape_u, axis=(-3,-1))\n",
    "    u = sfft.ifftshift(u)\n",
    "    u = sfft.ifft2(u)\n",
    "\n",
    "    # The phase that we need to imprint by the SLM is :\n",
    "    phase=np.angle(u)\n",
    "    # This part discretizes the values of phase. The SLM can only produce values in the range [0,255]\n",
    "    # that corresponds to [0,2pi]. Some values (e.g. 0.5 => 0.5 * 2pi/255) cannot be reproduced by the SLM\n",
    "    # This discretization takes that in account. (The final phase will be the discretized one)\n",
    "    phase=discretize_phase(phase)\n",
    "    phase = phase\n",
    "    Final_ampl_phase=phase\n",
    "    phase=undiscretize_phase(phase)\n",
    "\n",
    "axs[0,1].plot(errors)\n",
    "axs[0,1].set_yscale('log')\n",
    "axs[0,1].set_title('Convergence')\n",
    "\n",
    "\n",
    "im1=axs[1,0].imshow(target_im-std_int)\n",
    "plt.colorbar(im1,ax=axs[1,0])\n",
    "axs[1,0].set_title('Reconstructed image - Target image')\n",
    "\n",
    "im2=axs[1,1].imshow(std_int)\n",
    "plt.colorbar(im2,ax=axs[1,1])\n",
    "axs[1,1].set_title('Reconstructed image')\n",
    "plt.show()"
   ]
  },
  {
   "cell_type": "code",
   "execution_count": 21,
   "metadata": {},
   "outputs": [
    {
     "data": {
      "text/plain": [
       "<matplotlib.image.AxesImage at 0x228b3b17790>"
      ]
     },
     "execution_count": 21,
     "metadata": {},
     "output_type": "execute_result"
    },
    {
     "data": {
      "image/png": "[encoded data removed]",
      "text/plain": [
       "<Figure size 640x480 with 1 Axes>"
      ]
     },
     "metadata": {},
     "output_type": "display_data"
    }
   ],
   "source": [
    "plt.imshow(target_im[900:1870, 700:1700])"
   ]
  },
  {
   "cell_type": "code",
   "execution_count": 8,
   "metadata": {},
   "outputs": [
    {
     "name": "stdout",
     "output_type": "stream",
     "text": [
      "f3x_precision_space9 saved succesfully.\n"
     ]
    }
   ],
   "source": [
    "writeimg(Final_ampl_phase, \"f3x_precision_space9\")"
   ]
  },
  {
   "cell_type": "code",
   "execution_count": 9,
   "metadata": {},
   "outputs": [],
   "source": [
    "img = Image.open('f3x_precision_space9.bmp')\n",
    "img = np.asarray(img)\n",
    "blank = img[:,:,0]\n",
    "blank = np.exp(1j * blank * 2 * np.pi / 256)\n",
    "maxval = np.amax(blank)\n",
    "f = np.fft.fftshift(np.fft.fft2(blank))\n",
    "mag_spectrum = np.abs(f)\n",
    "\n",
    "max_mag = np.max(mag_spectrum)\n",
    "scaledimg = mag_spectrum / max_mag*255"
   ]
  },
  {
   "cell_type": "code",
   "execution_count": 10,
   "metadata": {},
   "outputs": [],
   "source": [
    "data = Image.fromarray(scaledimg.T).convert('RGB')\n",
    "data.save(\"transposed_Simulate_f3x_precision_space9.bmp\")"
   ]
  },
  {
   "cell_type": "code",
   "execution_count": 11,
   "metadata": {},
   "outputs": [],
   "source": [
    "img = Image.open('f3x_precision_space9.bmp')\n",
    "transpose = img.transpose(Image.ROTATE_90)\n",
    "transpose.save(\"transposed_f3x_precision_space9.bmp\")"
   ]
  },
  {
   "cell_type": "code",
   "execution_count": null,
   "metadata": {},
   "outputs": [],
   "source": []
  }
 ],
 "metadata": {
  "kernelspec": {
   "display_name": "Python 3",
   "language": "python",
   "name": "python3"
  },
  "language_info": {
   "codemirror_mode": {
    "name": "ipython",
    "version": 3
   },
   "file_extension": ".py",
   "mimetype": "text/x-python",
   "name": "python",
   "nbconvert_exporter": "python",
   "pygments_lexer": "ipython3",
   "version": "3.11.1"
  },
  "orig_nbformat": 4
 },
 "nbformat": 4,
 "nbformat_minor": 2
}
