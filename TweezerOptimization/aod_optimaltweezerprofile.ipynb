{
 "cells": [
  {
   "cell_type": "code",
   "execution_count": 1,
   "metadata": {},
   "outputs": [],
   "source": [
    "# for folders one level below the heirarchy\n",
    "import sys\n",
    "import os\n",
    "current_dir = os.getcwd()\n",
    "parent_dir = os.path.abspath(os.path.join(current_dir, os.pardir))\n",
    "sys.path.append(parent_dir)\n",
    "\n",
    "\n",
    "from GWS_Summer2024.slmfunctions.dependencies import *\n",
    "from GWS_Summer2024.slmfunctions.settings import *\n",
    "from GWS_Summer2024.slmfunctions.simulation import *\n",
    "from GWS_Summer2024.slmfunctions.imageprocessing import *\n",
    "from GWS_Summer2024.slmfunctions.phaseretrieval import *\n",
    "\n",
    "## More dependencies\n",
    "import scipy.fft as spfft\n",
    "from scipy.ndimage import gaussian_filter1d as sp_gaussian_filter1d\n",
    "from scipy.ndimage import affine_transform as sp_affine_transform\n",
    "from scipy.ndimage import gaussian_filter as sp_gaussian_filter\n",
    "import matplotlib.pyplot as plt\n",
    "from mpl_toolkits.mplot3d import Axes3D\n",
    "from itertools import product\n",
    "\n",
    "cupyon=True\n",
    "\n",
    "try:\n",
    "    import cupy as cp\n",
    "    import cupyx.scipy.fft as cpfft\n",
    "    import cupyx.scipy.ndimage\n",
    "    from cupyx.scipy.ndimage import gaussian_filter1d as cp_gaussian_filter1d\n",
    "    from cupyx.scipy.ndimage import gaussian_filter as cp_gaussian_filter\n",
    "    from cupyx.scipy.ndimage import affine_transform as cp_affine_transform\n",
    "except ImportError:\n",
    "    cp = np\n",
    "    cpfft = spfft\n",
    "    cp_gaussian_filter1d = sp_gaussian_filter1d\n",
    "    cp_gaussian_filter = sp_gaussian_filter\n",
    "    cp_affine_transform = sp_affine_transform\n",
    "    cupyon = False\n",
    "    print(\"cupy not installed. Using numpy.\")\n"
   ]
  },
  {
   "cell_type": "code",
   "execution_count": 7,
   "metadata": {},
   "outputs": [
    {
     "data": {
      "text/plain": [
       "[<matplotlib.lines.Line2D at 0x1f78f7b7580>]"
      ]
     },
     "execution_count": 7,
     "metadata": {},
     "output_type": "execute_result"
    },
    {
     "data": {
      "image/png": "[encoded data removed]",
      "text/plain": [
       "<Figure size 640x480 with 1 Axes>"
      ]
     },
     "metadata": {},
     "output_type": "display_data"
    }
   ],
   "source": [
    "tweezerint = cp.linspace(0, 10, 1000)  # Discretized space for the waveform\n",
    "\n",
    "def create_gaussian(array, sigma):\n",
    "    # Determine the center index of the array\n",
    "    center_index = len(array) // 2\n",
    "    \n",
    "    # Create the x values for the array\n",
    "    x = cp.arange(len(array))\n",
    "    \n",
    "    # Create the Gaussian profile centered at the center index\n",
    "    gaussian = cp.exp(-0.5 * ((x - center_index) / sigma) ** 2)\n",
    "    \n",
    "    # Fill the array with the Gaussian profile\n",
    "    array[:] = gaussian\n",
    "    \n",
    "    return array\n",
    "\n",
    "def calculateforce(array):\n",
    "    \n",
    "\n",
    "gaussian_tweezer = create_gaussian(tweezerint, 19)\n",
    "force_realspace = \n",
    "plt.plot(gaussian_tweezer.get())"
   ]
  },
  {
   "cell_type": "code",
   "execution_count": null,
   "metadata": {},
   "outputs": [],
   "source": []
  },
  {
   "cell_type": "code",
   "execution_count": null,
   "metadata": {},
   "outputs": [],
   "source": []
  }
 ],
 "metadata": {
  "kernelspec": {
   "display_name": "Python 3",
   "language": "python",
   "name": "python3"
  },
  "language_info": {
   "codemirror_mode": {
    "name": "ipython",
    "version": 3
   },
   "file_extension": ".py",
   "mimetype": "text/x-python",
   "name": "python",
   "nbconvert_exporter": "python",
   "pygments_lexer": "ipython3",
   "version": "3.10.11"
  }
 },
 "nbformat": 4,
 "nbformat_minor": 2
}
