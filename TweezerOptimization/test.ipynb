{
 "cells": [
  {
   "cell_type": "code",
   "execution_count": 2,
   "metadata": {},
   "outputs": [
    {
     "name": "stdout",
     "output_type": "stream",
     "text": [
      "Probability of staying in the well: 0.0\n"
     ]
    },
    {
     "data": {
      "image/png": "[encoded data removed]",
      "text/plain": [
       "<Figure size 864x360 with 2 Axes>"
      ]
     },
     "metadata": {
      "needs_background": "light"
     },
     "output_type": "display_data"
    }
   ],
   "source": [
    "## Iter 2\n",
    "\n",
    "import numpy as np\n",
    "import matplotlib.pyplot as plt\n",
    "from qutip import *\n",
    "\n",
    "# Constants\n",
    "m = 1.0  # Mass of the particle\n",
    "hbar = 1.0  # Reduced Planck's constant\n",
    "L = 10.0  # Length of the domain\n",
    "N = 200  # Number of points in the discretized space\n",
    "x = np.linspace(-L/2, L/2, N)  # Spatial grid\n",
    "dx = x[1] - x[0]\n",
    "\n",
    "# Define the Gaussian potential well\n",
    "def gaussian_well(x, depth=-10.0, width=1.0):\n",
    "    return depth * np.exp(-x**2 / (2 * width**2))\n",
    "\n",
    "V = gaussian_well(x)\n",
    "V_op = Qobj(np.diag(V))\n",
    "\n",
    "# Define the initial state with a specific momentum\n",
    "p0 = 0.0  # Initial momentum\n",
    "k0 = p0 / hbar  # Corresponding wave number\n",
    "\n",
    "# Gaussian wave packet centered at x=0\n",
    "x0 = 0.0  # Initial position\n",
    "sigma = 1.0  # Width of the wave packet\n",
    "\n",
    "psi_x = (1/(sigma * np.sqrt(2 * np.pi)))**0.5 * np.exp(-(x - x0)**2 / (4 * sigma**2)) * np.exp(1j * k0 * x)\n",
    "psi_x /= np.linalg.norm(psi_x)\n",
    "\n",
    "# Convert to QuTiP Qobj\n",
    "psi0 = Qobj(psi_x)\n",
    "\n",
    "# Hamiltonian operator\n",
    "T = (-hbar**2 / (2 * m)) * (np.diag(np.ones(N-1), -1) - 2 * np.diag(np.ones(N)) + np.diag(np.ones(N-1), 1)) / (dx**2)\n",
    "T_op = Qobj(T)\n",
    "H_op = T_op + V_op\n",
    "\n",
    "# Define the position operator\n",
    "x_op = Qobj(np.diag(x))\n",
    "\n",
    "# Define the momentum operator using finite differences\n",
    "p_op = -1j * hbar * (np.diag(np.ones(N-1), -1) - np.diag(np.ones(N-1), 1)) / (2 * dx)\n",
    "p_op = Qobj(p_op)\n",
    "\n",
    "# Function to simulate the system with a random walk effect\n",
    "def simulate_random_walk(H_op, psi0, times, dt, well_depth):\n",
    "    results = mesolve(H_op, psi0, times, [], [x_op, p_op])\n",
    "    x_expect = results.expect[0]\n",
    "    p_expect = results.expect[1]\n",
    "    \n",
    "    for t in range(1, len(times)):\n",
    "        if 0.5 * m * (p_expect[t-1]**2) > well_depth:\n",
    "            # Particle has enough energy to escape the well\n",
    "            x_expect[t:] = np.nan\n",
    "            p_expect[t:] = np.nan\n",
    "            break\n",
    "        # Add random walk effect to the momentum\n",
    "        random_step = np.random.normal(0, 0.1)\n",
    "        p_expect[t] += random_step\n",
    "    \n",
    "    return x_expect, p_expect\n",
    "\n",
    "# Calculate total energy of the potential well\n",
    "total_energy_well = np.trapz(V, x)\n",
    "\n",
    "# Monte Carlo simulation to determine probability of staying in the well\n",
    "def monte_carlo_simulation(H_op, psi0, times, dt, well_depth, num_simulations):\n",
    "    stay_count = 0\n",
    "    for _ in range(num_simulations):\n",
    "        x_expect, p_expect = simulate_random_walk(H_op, psi0, times, dt, well_depth)\n",
    "        if not np.isnan(x_expect[-1]):\n",
    "            stay_count += 1\n",
    "    return stay_count / num_simulations\n",
    "\n",
    "# Parameters for simulation\n",
    "times = np.linspace(0, 10, 500)\n",
    "dt = times[1] - times[0]\n",
    "num_simulations = 10\n",
    "\n",
    "# Run Monte Carlo simulation\n",
    "probability_staying_in_well = monte_carlo_simulation(H_op, psi0, times, dt, total_energy_well, num_simulations)\n",
    "\n",
    "# Print results\n",
    "print(f\"Probability of staying in the well: {probability_staying_in_well}\")\n",
    "\n",
    "# Example of a single simulation result\n",
    "x_expect, p_expect = simulate_random_walk(H_op, psi0, times, dt, total_energy_well)\n",
    "\n",
    "# Plot the results of a single simulation\n",
    "plt.figure(figsize=(12, 5))\n",
    "\n",
    "plt.subplot(1, 2, 1)\n",
    "plt.plot(times, x_expect)\n",
    "plt.xlabel('Time')\n",
    "plt.ylabel('Expectation value of position')\n",
    "plt.title('Expectation value of position vs. time')\n",
    "\n",
    "plt.subplot(1, 2, 2)\n",
    "plt.plot(times, p_expect)\n",
    "plt.xlabel('Time')\n",
    "plt.ylabel('Expectation value of momentum')\n",
    "plt.title('Expectation value of momentum vs. time')\n",
    "\n",
    "plt.tight_layout()\n",
    "plt.show()\n"
   ]
  },
  {
   "cell_type": "code",
   "execution_count": null,
   "metadata": {},
   "outputs": [],
   "source": []
  }
 ],
 "metadata": {
  "kernelspec": {
   "display_name": "base",
   "language": "python",
   "name": "python3"
  },
  "language_info": {
   "codemirror_mode": {
    "name": "ipython",
    "version": 3
   },
   "file_extension": ".py",
   "mimetype": "text/x-python",
   "name": "python",
   "nbconvert_exporter": "python",
   "pygments_lexer": "ipython3",
   "version": "3.9.7"
  }
 },
 "nbformat": 4,
 "nbformat_minor": 2
}
