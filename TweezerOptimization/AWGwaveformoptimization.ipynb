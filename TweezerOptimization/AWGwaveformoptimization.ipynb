{
 "cells": [
  {
   "cell_type": "code",
   "execution_count": 1,
   "metadata": {},
   "outputs": [],
   "source": [
    "# for folders one level below the heirarchy\n",
    "import sys\n",
    "import os \n",
    "current_dir = os.getcwd()\n",
    "parent_dir = os.path.abspath(os.path.join(current_dir, os.pardir))\n",
    "sys.path.append(parent_dir)\n",
    "\n",
    "## More dependencies\n",
    "import scipy.fft as spfft\n",
    "from scipy.ndimage import gaussian_filter1d as sp_gaussian_filter1d\n",
    "from scipy.ndimage import affine_transform as sp_affine_transform\n",
    "from scipy.ndimage import gaussian_filter as sp_gaussian_filter\n",
    "from scipy.optimize import minimize\n",
    "from scipy.interpolate import interp1d\n",
    "\n",
    "import matplotlib.pyplot as plt\n",
    "from mpl_toolkits.mplot3d import Axes3D\n",
    "from itertools import product\n",
    "\n",
    "cupyon=True\n",
    "\n",
    "try:\n",
    "    import cupy as cp\n",
    "    import numpy as np\n",
    "    import cupyx.scipy.fft as cpfft\n",
    "    import cupyx.scipy.ndimage\n",
    "    from cupyx.scipy.ndimage import gaussian_filter1d as cp_gaussian_filter1d\n",
    "    from cupyx.scipy.ndimage import gaussian_filter as cp_gaussian_filter\n",
    "    from cupyx.scipy.ndimage import affine_transform as cp_affine_transform\n",
    "    from cupy.lib.stride_tricks import as_strided\n",
    "\n",
    "except ImportError:\n",
    "    cp = np\n",
    "    cpfft = spfft\n",
    "    cp_gaussian_filter1d = sp_gaussian_filter1d\n",
    "    cp_gaussian_filter = sp_gaussian_filter\n",
    "    cp_affine_transform = sp_affine_transform\n",
    "    cupyon = False\n",
    "    print(\"cupy not installed. Using numpy.\")\n"
   ]
  },
  {
   "cell_type": "code",
   "execution_count": 21,
   "metadata": {},
   "outputs": [
    {
     "name": "stdout",
     "output_type": "stream",
     "text": [
      "Cycletime in nanoseconds:  11538.461538461537\n",
      "Aod pixel pitch in microns:  2.5\n",
      "Fourier space spacing in microns:  0.279931640625\n",
      "Fourier space aperture in microns:  2293.2\n",
      "Timestep in nanoseconds: 3.8461538461538463\n",
      "84000\n"
     ]
    }
   ],
   "source": [
    "## Global Variables\n",
    "# Hardware-defined Constants. Note that all explicit variable values are in position (m), frequency (1/m), or time (s). Conversions are done explicitly to relevant time/distance scales.\n",
    "aodaperture = 7.5e-3 # Aperture size of the AOD\n",
    "soundvelocity = 650   # Sound velocity in the medium\n",
    "cycletime = aodaperture / soundvelocity  # Time for one cycle of the waveform\n",
    "\n",
    "focallength = 9.1 * 10**(-3) # mm\n",
    "wavelength = 630 * 10**(-9)\n",
    "\n",
    "print(\"Cycletime in nanoseconds: \", cycletime * 1e9)\n",
    "\n",
    "# Simulation Constants\n",
    "numpix_frame = 3000\n",
    "numpix_real = 4096*2\n",
    "pixelsize_real = aodaperture / numpix_frame\n",
    "aperturesize_real = numpix_real * pixelsize_real\n",
    "aperturesize_fourier = wavelength * focallength / (pixelsize_real)\n",
    "pixelsize_fourier = aperturesize_fourier / numpix_real\n",
    "print(\"Aod pixel pitch in microns: \", pixelsize_real*1e6)\n",
    "print(\"Fourier space spacing in microns: \", pixelsize_fourier*10**6)\n",
    "print(\"Fourier space aperture in microns: \", aperturesize_fourier*10**6)\n",
    "\n",
    "# Adjustable Variables\n",
    "movementtime = 300*10**(-6) # Time for the movement of the AOD\n",
    "timestep = cycletime / numpix_frame\n",
    "print(\"Timestep in nanoseconds:\", timestep * 10**9)\n",
    "startlocation = 400*10**(-6) # Start location of the AOD in microns. 0 is set to the center of Fourier space.\n",
    "endlocation = 600*10**(-6) # End location of the AOD in microns\n",
    "\n",
    "\n",
    "polynomialbasis = 'Chebyshev'  # Basis for the polynomial fit\n",
    "numcoefficients = 100\n",
    "\n",
    "globalvariables = [aodaperture, soundvelocity, cycletime, focallength, wavelength, numpix_frame, numpix_real, pixelsize_real, aperturesize_real, aperturesize_fourier, pixelsize_fourier, movementtime, timestep, startlocation, endlocation, polynomialbasis, numcoefficients]\n",
    "aodaperture, soundvelocity, cycletime, focallength, wavelength, numpix_frame, numpix_real, pixelsize_real, aperturesize_real, aperturesize_fourier, pixelsize_fourier, movementtime, timestep, startlocation, endlocation, polynomialbasis, numcoefficients = globalvariables\n",
    "\n",
    "### From the global variables, initialize the AWG waveform\n",
    "numpix_waveform = int(movementtime / cycletime * numpix_frame) + 2* numpix_frame # Why is there a 2* cycletime here? To add on the initial and final stages of the AOD. We will only change the portion in the movement time and fix the ends.\n",
    "AWGwaveform = cp.zeros(numpix_waveform)\n",
    "print(len(AWGwaveform))\n",
    "\n"
   ]
  },
  {
   "cell_type": "code",
   "execution_count": 13,
   "metadata": {},
   "outputs": [
    {
     "data": {
      "text/plain": [
       "923.0769230769231"
      ]
     },
     "execution_count": 13,
     "metadata": {},
     "output_type": "execute_result"
    }
   ],
   "source": [
    "testfrequency = 80e6\n",
    "wavelength = soundvelocity / testfrequency\n",
    "cycles = aodaperture / wavelength\n",
    "cycles"
   ]
  },
  {
   "cell_type": "code",
   "execution_count": null,
   "metadata": {},
   "outputs": [],
   "source": [
    "tweezerpower = 1 mW per tweezerpower\n",
    "\n",
    "trapdepth 10 MHz\n",
    "\n",
    "initialatomtemp = 0 ~ 1/2 MHz "
   ]
  },
  {
   "cell_type": "code",
   "execution_count": null,
   "metadata": {},
   "outputs": [],
   "source": []
  },
  {
   "cell_type": "code",
   "execution_count": 6,
   "metadata": {},
   "outputs": [],
   "source": [
    "\n",
    "\n",
    "def initpath_linearramp(globalvariables):\n",
    "    '''Initializes positions throughout the movementtime with an acceleration profile that is a linear ramp up for half the time then down for half the time that moves\n",
    "    the atom from startlocation to endlocation.'''\n",
    "    aodaperture, soundvelocity, cycletime, focallength, wavelength, numpix_frame, numpix_real, pixelsize_real, aperturesize_real, aperturesize_fourier, pixelsize_fourier, movementtime, timestep, startlocation, endlocation, polynomialbasis, numcoefficients = globalvariables\n",
    "\n",
    "    \n",
    "    # Define the number of time steps\n",
    "    num_steps = 1000\n",
    "    total_time = movementtime\n",
    "    time = np.linspace(0, total_time, num_steps)\n",
    "    \n",
    "    # Initial and final positions\n",
    "    initial_position = startlocation * 10**6  # Convert to micrometers\n",
    "    final_position = endlocation * 10**6  # Convert to micrometers\n",
    "    D = final_position - initial_position\n",
    "    \n",
    "    # Calculate the constant acceleration needed\n",
    "    a_max = (4 * D) / (total_time**2)  # Maximum acceleration\n",
    "    \n",
    "    # Initialize arrays for acceleration, velocity, position, and jerk\n",
    "    accelerations = np.zeros(num_steps)\n",
    "    velocities = np.zeros(num_steps)\n",
    "    positions = np.zeros(num_steps)\n",
    "    jerks = np.zeros(num_steps)\n",
    "    \n",
    "    # Calculate acceleration, velocity, and position for each time step\n",
    "    half_time = total_time / 2\n",
    "    half_steps = num_steps // 2\n",
    "    time_step = total_time / num_steps\n",
    "    \n",
    "    for i in range(num_steps):\n",
    "        if i <= half_steps:\n",
    "            # Ramp up phase\n",
    "            current_time = i * time_step\n",
    "            accelerations[i] = a_max * (current_time / half_time)\n",
    "        else:\n",
    "            # Ramp down phase\n",
    "            current_time = (i - half_steps) * time_step\n",
    "            accelerations[i] = a_max * (1 - (current_time / half_time))\n",
    "\n",
    "    def integrate_acceleration(acceleration, dt):\n",
    "        velocity = np.cumsum(acceleration) * dt\n",
    "        position = np.cumsum(velocity) * dt\n",
    "        return velocity, position\n",
    "\n",
    "    # Function to calculate jerk from acceleration\n",
    "    def calculate_jerk(acceleration, dt):\n",
    "        jerk = np.gradient(acceleration, dt)\n",
    "        return jerk\n",
    "\n",
    "    velocities, positions = integrate_acceleration(accelerations, time_step)\n",
    "    jerks = calculate_jerk(accelerations, time_step)\n",
    "\n",
    "    positions = positions / 10**6 + startlocation\n",
    "    velocities = velocities / 10**6\n",
    "    accelerations = accelerations / 10**6\n",
    "    jerks = jerks / 10**6\n",
    "\n",
    "    return positions,velocities,accelerations, jerks, time\n",
    "\n",
    "def initpath_minimizejerk(globalvariables):\n",
    "    '''Initializes positions throughout the movementtime that minimizes jerk.'''\n",
    "    aodaperture, soundvelocity, cycletime, focallength, wavelength, numpix_frame, numpix_real, pixelsize_real, aperturesize_real, aperturesize_fourier, pixelsize_fourier, movementtime, timestep, startlocation, endlocation, polynomialbasis, numcoefficients = globalvariables\n",
    "\n",
    "    # Define the number of time steps and total time\n",
    "    num_steps = 1000\n",
    "    total_time = movementtime  # You may need to adjust this based on the problem's requirements\n",
    "    time = np.linspace(0, 10, num_steps)\n",
    "    time_out = np.linspace(0, total_time, num_steps)\n",
    "    # Initial and final conditions\n",
    "    initial_position = startlocation*(10**6)\n",
    "    final_position = endlocation*(10**6)\n",
    "    D = final_position - initial_position\n",
    "\n",
    "    # Function to calculate velocity and position from acceleration\n",
    "    def integrate_acceleration(acceleration, dt):\n",
    "        velocity = np.cumsum(acceleration) * dt\n",
    "        position = np.cumsum(velocity) * dt\n",
    "        return velocity, position\n",
    "\n",
    "    # Function to calculate jerk from acceleration\n",
    "    def calculate_jerk(acceleration, dt):\n",
    "        jerk = np.gradient(acceleration, dt)\n",
    "        return jerk\n",
    "\n",
    "    # Objective function to minimize jerk and achieve target position\n",
    "    def objective(acceleration, dt):\n",
    "        velocity, position = integrate_acceleration(acceleration, dt)\n",
    "        jerk = calculate_jerk(acceleration, dt)\n",
    "        jerk_cost = np.sum(jerk**2)  # Minimize the squared jerk\n",
    "        position_error = (position[-1] - D)**2  # Ensure final position is D\n",
    "        velocity_error = velocity[-1]**2  # Ensure final velocity is 0\n",
    "        return jerk_cost + position_error + velocity_error\n",
    "\n",
    "    # Initial guess for the acceleration profile\n",
    "    initial_guess = np.zeros(num_steps)\n",
    "\n",
    "    # Optimization constraints\n",
    "    constraints = [\n",
    "        {'type': 'eq', 'fun': lambda a: integrate_acceleration(a, time[1] - time[0])[1][-1] - D},  # Final position constraint\n",
    "        {'type': 'eq', 'fun': lambda a: integrate_acceleration(a, time[1] - time[0])[0][-1]},     # Final velocity constraint\n",
    "    ]\n",
    "\n",
    "    # Perform the optimization\n",
    "    result = minimize(objective, initial_guess, args=(time[1] - time[0]), constraints=constraints, method='SLSQP')\n",
    "\n",
    "    # Extract the optimized acceleration profile\n",
    "    optimized_acceleration = result.x\n",
    "    optimized_velocity, optimized_position = integrate_acceleration(optimized_acceleration, time[1] - time[0])\n",
    "    optimized_jerk = calculate_jerk(optimized_acceleration, time[1] - time[0])\n",
    "    \n",
    "    optimized_acceleration = optimized_acceleration / (10**6)\n",
    "    optimized_velocity = optimized_velocity / (10**6)\n",
    "    optimized_position = (optimized_position)/ (10**6) + startlocation\n",
    "    optimized_jerk = optimized_jerk / (10**6)\n",
    "    \n",
    "    return optimized_position, optimized_velocity, optimized_acceleration, optimized_jerk, time_out\n",
    "\n",
    "def positionstofourier(positions, time, globalvariables):\n",
    "    '''Converts positions from initialized paths onto pixels in the fourier plane, preserving accuracy by storing as floats. These will later be converted to desired\n",
    "    spots on the AWG waveform.'''\n",
    "    aodaperture, soundvelocity, cycletime, focallength, wavelength, numpix_frame, numpix_real, pixelsize_real, aperturesize_real, aperturesize_fourier, pixelsize_fourier, movementtime, timestep, startlocation, endlocation, polynomialbasis, numcoefficients = globalvariables\n",
    "    framecenter = numpix_real / 2\n",
    "    fourierpixels = (positions / pixelsize_fourier) + framecenter\n",
    "\n",
    "    return fourierpixels, time\n",
    "\n",
    "def expand_position_array(time, position, globalvariables):\n",
    "    '''\n",
    "    Expands the position array to match the resolution of the AWGwaveform time array.\n",
    "    \n",
    "    Parameters:\n",
    "        time (np.array): The array of time values corresponding to the position array.\n",
    "        position (np.array): The array of position values.\n",
    "        AWGwaveform (np.array): The higher resolution time array for the AWG waveform.\n",
    "        \n",
    "    Returns:\n",
    "        np.array: The expanded position array.\n",
    "    '''\n",
    "    aodaperture, soundvelocity, cycletime, focallength, wavelength, numpix_frame, numpix_real, pixelsize_real, aperturesize_real, aperturesize_fourier, pixelsize_fourier, movementtime, timestep, startlocation, endlocation, polynomialbasis, numcoefficients = globalvariables\n",
    "\n",
    "    AWGtime = np.linspace(0,movementtime, int(movementtime / cycletime * numpix_frame))\n",
    "    # Create an interpolation function based on the original time and position arrays\n",
    "    interpolation_function = interp1d(tonumpy(time), tonumpy(position), kind='linear', fill_value='extrapolate')\n",
    "    \n",
    "    # Use the interpolation function to generate the expanded position array\n",
    "    expanded_position = interpolation_function(tonumpy(AWGtime))\n",
    "    \n",
    "    return expanded_position, AWGtime\n",
    "\n",
    "def realtofourier(inputarray):\n",
    "    \"\"\"\n",
    "    Simulate the Fourier transform of a waveform.\n",
    "    \n",
    "    Parameters:\n",
    "    inputarray (cp.ndarray): The input waveform.\n",
    "    \n",
    "    Returns:\n",
    "    cp.ndarray: The Fourier transform of the input waveform.\n",
    "    \"\"\"\n",
    "    # Perform the Fourier transform\n",
    "    outputarray = cpfft.fftshift(cpfft.fft(cpfft.fftshift(inputarray), norm=\"ortho\"))\n",
    "    fourierintensity = cp.square (cp.abs(outputarray))\n",
    "    return fourierintensity\n",
    "\n",
    "def fouriertoreal(inputarray):\n",
    "    \"\"\"\n",
    "    Simulate the Fourier transform of a waveform.\n",
    "    \n",
    "    Parameters:\n",
    "    inputarray (cp.ndarray): The input waveform.\n",
    "    \n",
    "    Returns:\n",
    "    cp.ndarray: The Fourier transform of the input waveform.\n",
    "    \"\"\"\n",
    "    # Perform the Fourier transform\n",
    "    outputarray = cpfft.ifftshift(cpfft.fft(cpfft.ifftshift(inputarray), norm=\"ortho\"))\n",
    "    fourierintensity = cp.square (cp.abs(outputarray))\n",
    "    return fourierintensity\n",
    "\n",
    "def initguess_continuouscosine(AWGwaveform, positions, time, globalvariables):\n",
    "    aodaperture, soundvelocity, cycletime, focallength, wavelength, numpix_frame, numpix_real, pixelsize_real, aperturesize_real, aperturesize_fourier, pixelsize_fourier, movementtime, timestep, startlocation, endlocation, polynomialbasis, numcoefficients = globalvariables\n",
    "\n",
    "    AWG_fourierspace = cp.zeros(len(AWGwaveform))\n",
    "    fourierpixels, time = positionstofourier(positions, time, globalvariables)\n",
    "    expanded_fourierpixels, expanded_time = expand_position_array(time, fourierpixels, globalvariables)\n",
    "    AWG_fourierspace[numpix_frame: -numpix_frame] = tocupy(expanded_fourierpixels)\n",
    "    frequency_t0 = fourierpixels[0]\n",
    "    frequency_tF = fourierpixels[-1]\n",
    "    print(frequency_t0)\n",
    "    print(frequency_tF)\n",
    "    AWG_fourierspace[0:numpix_frame] = frequency_t0\n",
    "    AWG_fourierspace[-numpix_frame:] = frequency_tF\n",
    "    AWG_time = cp.linspace(0, 1*len(AWGwaveform) / numpix_real, len(AWGwaveform))\n",
    "    \n",
    "    AWG_fourierspace = AWG_fourierspace - numpix_real // 2\n",
    "\n",
    "    AWGwaveform_out = cp.cos(2*cp.pi*cp.cumsum(AWG_fourierspace) * (AWG_time[1] - AWG_time[0]))\n",
    "    \n",
    "\n",
    "    return AWGwaveform_out\n",
    "\n",
    "def snapshot(cycle, globalvariables):\n",
    "    '''Cycle here is non-zero padded section of length numpix_frame of the AWGwaveform.'''\n",
    "    aodaperture, soundvelocity, cycletime, focallength, wavelength, numpix_frame, numpix_real, pixelsize_real, aperturesize_real, aperturesize_fourier, pixelsize_fourier, movementtime, timestep, startlocation, endlocation, polynomialbasis, numcoefficients = globalvariables\n",
    "\n",
    "    cycle = zeropadframe(cycle, globalvariables)\n",
    "    return realtofourier(cycle)\n",
    "\n",
    "def retrieveforces(AWGwaveform, globalvariables, timeperframe = 1):\n",
    "    aodaperture, soundvelocity, cycletime, focallength, wavelength, numpix_frame, numpix_real, pixelsize_real, aperturesize_real, aperturesize_fourier, pixelsize_fourier, movementtime, timestep, startlocation, endlocation, polynomialbasis, numcoefficients = globalvariables\n",
    "\n",
    "    num_snapshots = (len(AWGwaveform) - numpix_frame) // timeperframe + 1\n",
    "    \n",
    "    # Create a view of the input array with overlapping windows\n",
    "    strides = (AWGwaveform.strides[0] * timeperframe, AWGwaveform.strides[0])\n",
    "    shape = (num_snapshots, numpix_frame)\n",
    "    snapshots = as_strided(AWGwaveform, shape=shape, strides=strides)    \n",
    "    snapshots = cp.array([realtofourier(zeropadframe(snap, globalvariables)) for snap in snapshots])\n",
    "\n",
    "    snapshots = calculateforces(snapshots)\n",
    "\n",
    "    if timeperframe > 1:\n",
    "        interpolated_snapshots = cp.zeros((num_snapshots + (num_snapshots - 1) * (timeperframe - 1), numpix_real), dtype=AWGwaveform.dtype)\n",
    "        interpolated_snapshots[::timeperframe] = snapshots\n",
    "        \n",
    "        for i in range(1, timeperframe):\n",
    "            interpolated_snapshots[i::timeperframe] = (snapshots[:-1] * (timeperframe - i) + snapshots[1:] * i) / timeperframe\n",
    "        \n",
    "        return interpolated_snapshots\n",
    "\n",
    "    return snapshots\n",
    "\n",
    "def retrievepotentials(AWGwaveform, globalvariables, timeperframe = 1):\n",
    "    aodaperture, soundvelocity, cycletime, focallength, wavelength, numpix_frame, numpix_real, pixelsize_real, aperturesize_real, aperturesize_fourier, pixelsize_fourier, movementtime, timestep, startlocation, endlocation, polynomialbasis, numcoefficients = globalvariables\n",
    "\n",
    "    num_snapshots = (len(AWGwaveform) - numpix_frame) // timeperframe + 1\n",
    "    \n",
    "    # Create a view of the input array with overlapping windows\n",
    "    strides = (AWGwaveform.strides[0] * timeperframe, AWGwaveform.strides[0])\n",
    "    shape = (num_snapshots, numpix_frame)\n",
    "    snapshots = as_strided(AWGwaveform, shape=shape, strides=strides)    \n",
    "    snapshots = cp.array([realtofourier(zeropadframe(snap, globalvariables)) for snap in snapshots])\n",
    "\n",
    "\n",
    "    if timeperframe > 1:\n",
    "        interpolated_snapshots = cp.zeros((num_snapshots + (num_snapshots - 1) * (timeperframe - 1), numpix_real), dtype=AWGwaveform.dtype)\n",
    "        interpolated_snapshots[::timeperframe] = snapshots\n",
    "        \n",
    "        for i in range(1, timeperframe):\n",
    "            interpolated_snapshots[i::timeperframe] = (snapshots[:-1] * (timeperframe - i) + snapshots[1:] * i) / timeperframe\n",
    "        \n",
    "        return interpolated_snapshots\n",
    "\n",
    "    return snapshots\n",
    "\n",
    "def calculateforces(potentials):\n",
    "    forces = cp.zeros_like(potentials)\n",
    "    forces = [gradient(potential) * potential for potential in potentials]\n",
    "    return cp.array(forces)\n",
    "\n",
    "\n",
    "# quality of life\n",
    "def gradient(arr):\n",
    "    # Calculate the spacing between points\n",
    "    dx = 1.0  # Assuming unit spacing for simplicity; adjust if needed\n",
    "    \n",
    "    # Compute the first derivative using central differences\n",
    "    derivative = (cp.roll(arr, -1) - cp.roll(arr, 1)) / (2 * dx)\n",
    "    \n",
    "    # Handle boundaries with forward and backward differences\n",
    "    derivative[0] = (arr[1] - arr[0]) / dx\n",
    "    derivative[-1] = (arr[-1] - arr[-2]) / dx\n",
    "    \n",
    "    return cp.array(derivative)\n",
    "\n",
    "\n",
    "def tonumpy(array):\n",
    "    '''Checks if the input array is a CuPy array and converts it to a NumPy array if necessary.'''\n",
    "    if isinstance(array, cp.ndarray):\n",
    "        return cp.asnumpy(array)  # Convert CuPy array to NumPy array\n",
    "    elif isinstance(array, np.ndarray):\n",
    "        return array  # Already a NumPy array, return as is\n",
    "    else:\n",
    "        raise TypeError(\"Input is neither a NumPy nor a CuPy array\")\n",
    "\n",
    "def tocupy(array):\n",
    "    '''Checks if the input array is a NumPy array and converts it to a CuPy array if necessary.'''\n",
    "    if isinstance(array, np.ndarray):\n",
    "        return cp.asarray(array)  # Convert NumPy array to CuPy array\n",
    "    elif isinstance(array, cp.ndarray):\n",
    "        return array  # Already a CuPy array, return as is\n",
    "    else:\n",
    "        raise TypeError(\"Input is neither a NumPy nor a CuPy array\")\n",
    "\n",
    "def zeropadframe(frame, globalvariables):\n",
    "    aodaperture, soundvelocity, cycletime, focallength, wavelength, numpix_frame, numpix_real, pixelsize_real, aperturesize_real, aperturesize_fourier, pixelsize_fourier, movementtime, timestep, startlocation, endlocation, polynomialbasis, numcoefficients = globalvariables\n",
    "\n",
    "    paddedframe = cp.zeros(numpix_real)\n",
    "    paddedframe[(numpix_real - numpix_frame) // 2: (numpix_real + numpix_frame) // 2] = frame\n",
    "    return paddedframe\n"
   ]
  },
  {
   "cell_type": "code",
   "execution_count": null,
   "metadata": {},
   "outputs": [],
   "source": []
  },
  {
   "cell_type": "code",
   "execution_count": null,
   "metadata": {},
   "outputs": [],
   "source": []
  },
  {
   "cell_type": "code",
   "execution_count": 22,
   "metadata": {},
   "outputs": [
    {
     "name": "stdout",
     "output_type": "stream",
     "text": [
      "6239.380429094715\n",
      "6953.840572126286\n"
     ]
    }
   ],
   "source": [
    "optimized_position, optimized_velocity, optimized_acceleration, optimized_jerk, time = initpath_linearramp(globalvariables)\n",
    "# optimized_position, optimized_velocity, optimized_acceleration, optimized_jerk, time = initpath_minimizejerk(globalvariables)\n",
    "fourierpixels, time = positionstofourier(optimized_position, time, globalvariables)\n",
    "expanded_position, expanded_time = expand_position_array(time, fourierpixels, globalvariables)\n",
    "\n",
    "AWGinitguesscosine = initguess_continuouscosine(AWGwaveform, optimized_position, time, globalvariables)\n",
    "\n"
   ]
  },
  {
   "cell_type": "code",
   "execution_count": 5,
   "metadata": {},
   "outputs": [],
   "source": [
    "potentials = retrievepotentials(AWGinitguesscosine, globalvariables, 10)"
   ]
  },
  {
   "cell_type": "code",
   "execution_count": 23,
   "metadata": {},
   "outputs": [
    {
     "data": {
      "image/png": "[encoded data removed]",
      "text/plain": [
       "<Figure size 432x288 with 1 Axes>"
      ]
     },
     "metadata": {
      "needs_background": "light"
     },
     "output_type": "display_data"
    }
   ],
   "source": [
    "plt.plot(AWGinitguesscosine[0:3000].get())\n",
    "def count_periods(cos_wave):\n",
    "    # Convert numpy array to cupy array\n",
    "    cos_wave_cp = cp.asarray(cos_wave)\n",
    "    \n",
    "    # Calculate autocorrelation\n",
    "    autocorr = cp.correlate(cos_wave_cp, cos_wave_cp, mode='full')\n",
    "    \n",
    "    # Find peaks in autocorrelation (excluding the first peak which is the signal itself)\n",
    "    peaks = cp.where(cp.diff(cp.sign(cp.diff(autocorr))) == -2)[0] + 1\n",
    "    \n",
    "    # Calculate period as the distance between consecutive peaks\n",
    "    if len(peaks) > 1:\n",
    "        periods = cp.diff(peaks)\n",
    "        num_periods = len(periods)\n",
    "    else:\n",
    "        num_periods = 0\n",
    "    \n",
    "    return num_periods\n",
    "num_periods = count_periods(AWGinitguesscosine[0:3000])\n"
   ]
  },
  {
   "cell_type": "code",
   "execution_count": 24,
   "metadata": {},
   "outputs": [
    {
     "data": {
      "text/plain": [
       "1568"
      ]
     },
     "execution_count": 24,
     "metadata": {},
     "output_type": "execute_result"
    }
   ],
   "source": [
    "num_periods"
   ]
  },
  {
   "cell_type": "code",
   "execution_count": null,
   "metadata": {},
   "outputs": [],
   "source": []
  },
  {
   "cell_type": "code",
   "execution_count": 367,
   "metadata": {},
   "outputs": [
    {
     "ename": "ValueError",
     "evalue": "operands could not be broadcast together with shapes (1000,), (2000,)",
     "output_type": "error",
     "traceback": [
      "\u001b[1;31m---------------------------------------------------------------------------\u001b[0m",
      "\u001b[1;31mValueError\u001b[0m                                Traceback (most recent call last)",
      "\u001b[1;32m~\\AppData\\Local\\Temp/ipykernel_4328/420847337.py\u001b[0m in \u001b[0;36m<module>\u001b[1;34m\u001b[0m\n\u001b[0;32m      1\u001b[0m \u001b[0mplt\u001b[0m\u001b[1;33m.\u001b[0m\u001b[0mfigure\u001b[0m\u001b[1;33m(\u001b[0m\u001b[0mfigsize\u001b[0m\u001b[1;33m=\u001b[0m\u001b[1;33m(\u001b[0m\u001b[1;36m12\u001b[0m\u001b[1;33m,\u001b[0m \u001b[1;36m6\u001b[0m\u001b[1;33m)\u001b[0m\u001b[1;33m)\u001b[0m\u001b[1;33m\u001b[0m\u001b[1;33m\u001b[0m\u001b[0m\n\u001b[1;32m----> 2\u001b[1;33m \u001b[0mplt\u001b[0m\u001b[1;33m.\u001b[0m\u001b[0mplot\u001b[0m\u001b[1;33m(\u001b[0m\u001b[0mrealtofourier\u001b[0m\u001b[1;33m(\u001b[0m\u001b[0mzeropadframe\u001b[0m\u001b[1;33m(\u001b[0m\u001b[0mAWGinitguesscosine\u001b[0m\u001b[1;33m[\u001b[0m\u001b[1;36m0\u001b[0m\u001b[1;33m:\u001b[0m\u001b[1;36m1000\u001b[0m\u001b[1;33m]\u001b[0m\u001b[1;33m,\u001b[0m\u001b[0mglobalvariables\u001b[0m\u001b[1;33m)\u001b[0m\u001b[1;33m)\u001b[0m\u001b[1;33m.\u001b[0m\u001b[0mget\u001b[0m\u001b[1;33m(\u001b[0m\u001b[1;33m)\u001b[0m\u001b[1;33m)\u001b[0m\u001b[1;33m\u001b[0m\u001b[1;33m\u001b[0m\u001b[0m\n\u001b[0m\u001b[0;32m      3\u001b[0m \u001b[0mplt\u001b[0m\u001b[1;33m.\u001b[0m\u001b[0mplot\u001b[0m\u001b[1;33m(\u001b[0m\u001b[0mrealtofourier\u001b[0m\u001b[1;33m(\u001b[0m\u001b[0mzeropadframe\u001b[0m\u001b[1;33m(\u001b[0m\u001b[0mAWGinitguesscosine\u001b[0m\u001b[1;33m[\u001b[0m\u001b[1;33m-\u001b[0m\u001b[1;36m1000\u001b[0m\u001b[1;33m:\u001b[0m\u001b[1;33m]\u001b[0m\u001b[1;33m,\u001b[0m\u001b[0mglobalvariables\u001b[0m\u001b[1;33m)\u001b[0m\u001b[1;33m)\u001b[0m\u001b[1;33m.\u001b[0m\u001b[0mget\u001b[0m\u001b[1;33m(\u001b[0m\u001b[1;33m)\u001b[0m\u001b[1;33m)\u001b[0m\u001b[1;33m\u001b[0m\u001b[1;33m\u001b[0m\u001b[0m\n\u001b[0;32m      4\u001b[0m \u001b[1;33m\u001b[0m\u001b[0m\n\u001b[0;32m      5\u001b[0m \u001b[0mplt\u001b[0m\u001b[1;33m.\u001b[0m\u001b[0maxvline\u001b[0m\u001b[1;33m(\u001b[0m\u001b[0mx\u001b[0m\u001b[1;33m=\u001b[0m\u001b[1;36m321\u001b[0m\u001b[1;33m+\u001b[0m \u001b[0mnumpix_real\u001b[0m \u001b[1;33m//\u001b[0m\u001b[1;36m2\u001b[0m\u001b[1;33m,\u001b[0m \u001b[0mcolor\u001b[0m\u001b[1;33m=\u001b[0m\u001b[1;34m'red'\u001b[0m\u001b[1;33m,\u001b[0m \u001b[0mlinestyle\u001b[0m\u001b[1;33m=\u001b[0m\u001b[1;34m'--'\u001b[0m\u001b[1;33m)\u001b[0m\u001b[1;33m\u001b[0m\u001b[1;33m\u001b[0m\u001b[0m\n",
      "\u001b[1;32m~\\AppData\\Local\\Temp/ipykernel_4328/3138772483.py\u001b[0m in \u001b[0;36mzeropadframe\u001b[1;34m(frame, globalvariables)\u001b[0m\n\u001b[0;32m    296\u001b[0m \u001b[1;33m\u001b[0m\u001b[0m\n\u001b[0;32m    297\u001b[0m     \u001b[0mpaddedframe\u001b[0m \u001b[1;33m=\u001b[0m \u001b[0mcp\u001b[0m\u001b[1;33m.\u001b[0m\u001b[0mzeros\u001b[0m\u001b[1;33m(\u001b[0m\u001b[0mnumpix_real\u001b[0m\u001b[1;33m)\u001b[0m\u001b[1;33m\u001b[0m\u001b[1;33m\u001b[0m\u001b[0m\n\u001b[1;32m--> 298\u001b[1;33m     \u001b[0mpaddedframe\u001b[0m\u001b[1;33m[\u001b[0m\u001b[1;33m(\u001b[0m\u001b[0mnumpix_real\u001b[0m \u001b[1;33m-\u001b[0m \u001b[0mnumpix_frame\u001b[0m\u001b[1;33m)\u001b[0m \u001b[1;33m//\u001b[0m \u001b[1;36m2\u001b[0m\u001b[1;33m:\u001b[0m \u001b[1;33m(\u001b[0m\u001b[0mnumpix_real\u001b[0m \u001b[1;33m+\u001b[0m \u001b[0mnumpix_frame\u001b[0m\u001b[1;33m)\u001b[0m \u001b[1;33m//\u001b[0m \u001b[1;36m2\u001b[0m\u001b[1;33m]\u001b[0m \u001b[1;33m=\u001b[0m \u001b[0mframe\u001b[0m\u001b[1;33m\u001b[0m\u001b[1;33m\u001b[0m\u001b[0m\n\u001b[0m\u001b[0;32m    299\u001b[0m     \u001b[1;32mreturn\u001b[0m \u001b[0mpaddedframe\u001b[0m\u001b[1;33m\u001b[0m\u001b[1;33m\u001b[0m\u001b[0m\n",
      "\u001b[1;32mcupy/core/core.pyx\u001b[0m in \u001b[0;36mcupy.core.core.ndarray.__setitem__\u001b[1;34m()\u001b[0m\n",
      "\u001b[1;32mcupy/core/_routines_indexing.pyx\u001b[0m in \u001b[0;36mcupy.core._routines_indexing._ndarray_setitem\u001b[1;34m()\u001b[0m\n",
      "\u001b[1;32mcupy/core/_routines_indexing.pyx\u001b[0m in \u001b[0;36mcupy.core._routines_indexing._scatter_op\u001b[1;34m()\u001b[0m\n",
      "\u001b[1;32mcupy/core/_kernel.pyx\u001b[0m in \u001b[0;36mcupy.core._kernel.ufunc.__call__\u001b[1;34m()\u001b[0m\n",
      "\u001b[1;32mcupy/core/internal.pyx\u001b[0m in \u001b[0;36mcupy.core.internal._broadcast_core\u001b[1;34m()\u001b[0m\n",
      "\u001b[1;31mValueError\u001b[0m: operands could not be broadcast together with shapes (1000,), (2000,)"
     ]
    },
    {
     "data": {
      "text/plain": [
       "<Figure size 864x432 with 0 Axes>"
      ]
     },
     "metadata": {},
     "output_type": "display_data"
    }
   ],
   "source": [
    "plt.figure(figsize=(12, 6))\n",
    "plt.plot(realtofourier(zeropadframe(AWGinitguesscosine[0:1000],globalvariables)).get())\n",
    "plt.plot(realtofourier(zeropadframe(AWGinitguesscosine[-1000:],globalvariables)).get())\n",
    "\n",
    "plt.axvline(x=321+ numpix_real //2, color='red', linestyle='--')\n",
    "plt.axvline(x=1393.1972789115648+ numpix_real //2, color='red', linestyle='--')\n",
    "\n"
   ]
  },
  {
   "cell_type": "code",
   "execution_count": 378,
   "metadata": {},
   "outputs": [
    {
     "data": {
      "text/plain": [
       "[<matplotlib.lines.Line2D at 0x28b2fa73910>]"
      ]
     },
     "execution_count": 378,
     "metadata": {},
     "output_type": "execute_result"
    },
    {
     "data": {
      "image/png": "[encoded data removed]",
      "text/plain": [
       "<Figure size 432x288 with 1 Axes>"
      ]
     },
     "metadata": {
      "needs_background": "light"
     },
     "output_type": "display_data"
    }
   ],
   "source": [
    "plt.plot(potentials[-400][2450:2500].get())\n",
    "\n",
    "\n"
   ]
  },
  {
   "cell_type": "code",
   "execution_count": null,
   "metadata": {},
   "outputs": [],
   "source": []
  },
  {
   "cell_type": "code",
   "execution_count": null,
   "metadata": {},
   "outputs": [],
   "source": []
  },
  {
   "cell_type": "code",
   "execution_count": 56,
   "metadata": {},
   "outputs": [
    {
     "data": {
      "image/png": "[encoded data removed]",
      "text/plain": [
       "<Figure size 864x576 with 4 Axes>"
      ]
     },
     "metadata": {
      "needs_background": "light"
     },
     "output_type": "display_data"
    }
   ],
   "source": [
    "plt.figure(figsize=(12, 8))\n",
    "\n",
    "plt.subplot(4, 1, 1)\n",
    "plt.plot(time * 10**6, optimized_acceleration * 10**6)\n",
    "plt.title('Optimized Acceleration')\n",
    "plt.xlabel('Time (microseconds)')\n",
    "plt.ylabel('Acceleration (microns/microseconds^2)')\n",
    "\n",
    "plt.subplot(4, 1, 2)\n",
    "plt.plot(time* 10**6, optimized_velocity* 10**6)\n",
    "plt.title('Velocity')\n",
    "plt.xlabel('Time (microseconds)')\n",
    "plt.ylabel('Velocity (microns/microseconds)')\n",
    "\n",
    "plt.subplot(4, 1, 3)\n",
    "plt.plot(time* 10**6, optimized_position* 10**6)\n",
    "plt.title('Position')\n",
    "plt.xlabel('Time (microseconds)')\n",
    "plt.ylabel('Position (microns)')\n",
    "\n",
    "plt.subplot(4, 1, 4)\n",
    "plt.plot(time* 10**6, optimized_jerk* 10**6)\n",
    "plt.title('Jerk')\n",
    "plt.xlabel('Time (microseconds)')\n",
    "plt.ylabel('Jerk (microns/microseconds^3)')\n",
    "\n",
    "plt.tight_layout()\n",
    "plt.show()"
   ]
  },
  {
   "cell_type": "code",
   "execution_count": null,
   "metadata": {},
   "outputs": [],
   "source": []
  }
 ],
 "metadata": {
  "kernelspec": {
   "display_name": "Python 3",
   "language": "python",
   "name": "python3"
  },
  "language_info": {
   "codemirror_mode": {
    "name": "ipython",
    "version": 3
   },
   "file_extension": ".py",
   "mimetype": "text/x-python",
   "name": "python",
   "nbconvert_exporter": "python",
   "pygments_lexer": "ipython3",
   "version": "3.9.7"
  }
 },
 "nbformat": 4,
 "nbformat_minor": 2
}
