{
 "cells": [
  {
   "cell_type": "code",
   "execution_count": 1,
   "metadata": {},
   "outputs": [],
   "source": [
    "# for folders one level below the heirarchy\n",
    "import sys\n",
    "import os\n",
    "current_dir = os.getcwd()\n",
    "parent_dir = os.path.abspath(os.path.join(current_dir, os.pardir))\n",
    "sys.path.append(parent_dir)\n",
    "\n",
    "## More dependencies\n",
    "import scipy.fft as spfft\n",
    "from scipy.ndimage import gaussian_filter1d as sp_gaussian_filter1d\n",
    "from scipy.ndimage import affine_transform as sp_affine_transform\n",
    "from scipy.ndimage import gaussian_filter as sp_gaussian_filter\n",
    "import matplotlib.pyplot as plt\n",
    "from mpl_toolkits.mplot3d import Axes3D\n",
    "from itertools import product\n",
    "\n",
    "cupyon=True\n",
    "\n",
    "try:\n",
    "    import cupy as cp\n",
    "    import cupyx.scipy.fft as cpfft\n",
    "    import cupyx.scipy.ndimage\n",
    "    from cupyx.scipy.ndimage import gaussian_filter1d as cp_gaussian_filter1d\n",
    "    from cupyx.scipy.ndimage import gaussian_filter as cp_gaussian_filter\n",
    "    from cupyx.scipy.ndimage import affine_transform as cp_affine_transform\n",
    "except ImportError:\n",
    "    cp = np\n",
    "    cpfft = spfft\n",
    "    cp_gaussian_filter1d = sp_gaussian_filter1d\n",
    "    cp_gaussian_filter = sp_gaussian_filter\n",
    "    cp_affine_transform = sp_affine_transform\n",
    "    cupyon = False\n",
    "    print(\"cupy not installed. Using numpy.\")\n"
   ]
  },
  {
   "cell_type": "code",
   "execution_count": 2,
   "metadata": {},
   "outputs": [
    {
     "name": "stdout",
     "output_type": "stream",
     "text": [
      "Cycletime in nanoseconds:  11538.461538461537\n",
      "Aod pixel pitch in microns:  7.499999999999999\n",
      "Fourier space spacing in microns:  0.18662109375000002\n",
      "8666\n"
     ]
    }
   ],
   "source": [
    "## Global Variables\n",
    "# Hardware-defined Constants\n",
    "aodaperture = 7.5e-3 # Aperture size of the AOD\n",
    "soundvelocity = 650   # Sound velocity in the medium\n",
    "cycletime = aodaperture / soundvelocity  # Time for one cycle of the waveform\n",
    "\n",
    "focallength = 9.1 * 10**(-3) # mm\n",
    "wavelength = 630 * 10**(-9)\n",
    "\n",
    "print(\"Cycletime in nanoseconds: \", cycletime * 1e9)\n",
    "\n",
    "# Simulation Constants\n",
    "numpix_frame = 1000\n",
    "numpix_real = 4096\n",
    "pixelsize_real = aodaperture / numpix_frame\n",
    "aperturesize_real = numpix_real * pixelsize_real\n",
    "aperturesize_fourier = wavelength * focallength / (pixelsize_real)\n",
    "pixelsize_fourier = aperturesize_fourier / numpix_real\n",
    "print(\"Aod pixel pitch in microns: \", pixelsize_real*1e6)\n",
    "print(\"Fourier space spacing in microns: \", pixelsize_fourier*10**6)\n",
    "\n",
    "# Adjustable Variables\n",
    "movementtime = 100*10**(-6) # Time for the movement of the AOD\n",
    "startlocation = 60*10**(-6) # Start location of the AOD in microns\n",
    "endlocation = 260*10**(-6) # End location of the AOD in microns\n",
    "\n",
    "polynomialbasis = 'Chebyshev'  # Basis for the polynomial fit\n",
    "numcoefficients = 100\n",
    "\n",
    "globalvariables = [aodaperture, soundvelocity, cycletime, focallength, wavelength, numpix_frame, numpix_real, pixelsize_real, aperturesize_real, aperturesize_fourier, pixelsize_fourier, movementtime, startlocation, endlocation, polynomialbasis, numcoefficients]\n",
    "aodaperture, soundvelocity, cycletime, focallength, wavelength, numpix_frame, numpix_real, pixelsize_real, aperturesize_real, aperturesize_fourier, pixelsize_fourier, movementtime, startlocation, endlocation, polynomialbasis, numcoefficients = globalvariables\n",
    "\n",
    "### From the global variables, initialize the AWG waveform\n",
    "numpix_waveform = int(movementtime / cycletime * numpix_frame)\n",
    "AWGwaveform = cp.zeros(numpix_waveform)\n",
    "print(len(AWGwaveform))\n",
    "\n"
   ]
  },
  {
   "cell_type": "code",
   "execution_count": null,
   "metadata": {},
   "outputs": [],
   "source": []
  },
  {
   "cell_type": "code",
   "execution_count": null,
   "metadata": {},
   "outputs": [],
   "source": []
  },
  {
   "cell_type": "code",
   "execution_count": null,
   "metadata": {},
   "outputs": [],
   "source": []
  }
 ],
 "metadata": {
  "kernelspec": {
   "display_name": "Python 3",
   "language": "python",
   "name": "python3"
  },
  "language_info": {
   "codemirror_mode": {
    "name": "ipython",
    "version": 3
   },
   "file_extension": ".py",
   "mimetype": "text/x-python",
   "name": "python",
   "nbconvert_exporter": "python",
   "pygments_lexer": "ipython3",
   "version": "3.10.11"
  }
 },
 "nbformat": 4,
 "nbformat_minor": 2
}
