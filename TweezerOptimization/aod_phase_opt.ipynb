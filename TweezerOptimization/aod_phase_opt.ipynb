{
 "cells": [
  {
   "cell_type": "code",
   "execution_count": 3,
   "metadata": {},
   "outputs": [],
   "source": [
    "# for folders one level below the heirarchy\n",
    "import sys\n",
    "import os\n",
    "current_dir = os.getcwd()\n",
    "parent_dir = os.path.abspath(os.path.join(current_dir, os.pardir))\n",
    "sys.path.append(parent_dir)\n",
    "\n",
    "\n",
    "from GWS_Summer2024.slmfunctions.dependencies import *\n",
    "from GWS_Summer2024.slmfunctions.settings import *\n",
    "from GWS_Summer2024.slmfunctions.simulation import *\n",
    "from GWS_Summer2024.slmfunctions.imageprocessing import *\n",
    "from GWS_Summer2024.slmfunctions.phaseretrieval import *\n",
    "\n",
    "## More dependencies\n",
    "import scipy.fft as spfft\n",
    "from scipy.ndimage import gaussian_filter1d as sp_gaussian_filter1d\n",
    "from scipy.ndimage import affine_transform as sp_affine_transform\n",
    "from scipy.ndimage import gaussian_filter as sp_gaussian_filter\n",
    "import matplotlib.pyplot as plt\n",
    "from mpl_toolkits.mplot3d import Axes3D\n",
    "from itertools import product\n",
    "\n",
    "cupyon=True\n",
    "\n",
    "try:\n",
    "    import cupy as cp\n",
    "    import cupyx.scipy.fft as cpfft\n",
    "    import cupyx.scipy.ndimage\n",
    "    from cupyx.scipy.ndimage import gaussian_filter1d as cp_gaussian_filter1d\n",
    "    from cupyx.scipy.ndimage import gaussian_filter as cp_gaussian_filter\n",
    "    from cupyx.scipy.ndimage import affine_transform as cp_affine_transform\n",
    "except ImportError:\n",
    "    cp = np\n",
    "    cpfft = spfft\n",
    "    cp_gaussian_filter1d = sp_gaussian_filter1d\n",
    "    cp_gaussian_filter = sp_gaussian_filter\n",
    "    cp_affine_transform = sp_affine_transform\n",
    "    cupyon = False\n",
    "    print(\"cupy not installed. Using numpy.\")\n"
   ]
  },
  {
   "cell_type": "code",
   "execution_count": 30,
   "metadata": {},
   "outputs": [],
   "source": [
    "import cupy as cp\n",
    "import numpy as np\n",
    "\n",
    "# Number of points in awgspace\n",
    "X = 10000\n",
    "aodsize = 500\n",
    "\n",
    "awgspace = cp.linspace(0, 10, X)  # Discretized space for the waveform\n",
    "\n",
    "# Maximum number of terms for Fourier series and Legendre polynomials\n",
    "max_fourier_terms = 50\n",
    "\n",
    "# Precompute Legendre polynomials using NumPy\n",
    "# max_legendre_terms = 55\n",
    "# legendre_polynomials_np = np.polynomial.legendre.legval(np.linspace(0, 1, X), np.eye(max_legendre_terms).T)\n",
    "# legendre_polynomials = cp.array(legendre_polynomials_np)\n",
    "\n",
    "def calculateAWGwaveform(fouriercoefficients, awgspace):\n",
    "    \"\"\"\n",
    "    Calculate the AWG waveform given Fourier and Legendre coefficients.\n",
    "    \n",
    "    Parameters:\n",
    "    fouriercoefficients (cp.ndarray): Coefficients for the Fourier series.\n",
    "    legendrecoefficients (cp.ndarray): Coefficients for the Legendre polynomials.\n",
    "    awgspace (cp.ndarray): Discretized space for the waveform.\n",
    "    \n",
    "    Returns:\n",
    "    cp.ndarray: The resulting waveform in the awgspace.\n",
    "    \"\"\"\n",
    "    # Initialize the waveform with zeros\n",
    "    waveform = cp.zeros_like(awgspace)\n",
    "\n",
    "    # Calculate Fourier components\n",
    "    for n in range(max_fourier_terms):\n",
    "        if n == 0:\n",
    "            waveform += fouriercoefficients[n] * cp.ones_like(awgspace)\n",
    "        else:\n",
    "            waveform += (fouriercoefficients[2*n-1] * cp.sin(2 * cp.pi * n * awgspace) +\n",
    "                         fouriercoefficients[2*n] * cp.cos(2 * cp.pi * n * awgspace))\n",
    "\n",
    "    waveform = waveform\n",
    "    return waveform\n",
    "\n",
    "# def snapshot(waveform, time, velocity, aodsize):\n",
    "    \n",
    "\n",
    "# Example coefficients (for demonstration purposes, normally these would be optimized)\n",
    "fouriercoefficients = cp.random.random(2 * max_fourier_terms) - 0.5\n",
    "\n",
    "# Calculate the waveform\n",
    "waveform = calculateAWGwaveform(fouriercoefficients / cp.linalg.norm(fouriercoefficients), awgspace)\n",
    "\n",
    "# Convert the waveform back to numpy for visualization or other processing\n",
    "waveform_numpy = cp.asnumpy(waveform)\n"
   ]
  },
  {
   "cell_type": "code",
   "execution_count": 31,
   "metadata": {},
   "outputs": [
    {
     "data": {
      "text/plain": [
       "[<matplotlib.lines.Line2D at 0x187a9ff8430>]"
      ]
     },
     "execution_count": 31,
     "metadata": {},
     "output_type": "execute_result"
    },
    {
     "data": {
      "image/png": "[encoded data removed]",
      "text/plain": [
       "<Figure size 432x288 with 1 Axes>"
      ]
     },
     "metadata": {
      "needs_background": "light"
     },
     "output_type": "display_data"
    }
   ],
   "source": [
    "plt.plot(waveform_numpy)"
   ]
  },
  {
   "cell_type": "code",
   "execution_count": 23,
   "metadata": {},
   "outputs": [
    {
     "data": {
      "text/plain": [
       "array([ 0.01217907, -0.00013178, -0.01229298, ...,  0.03721274,\n",
       "        0.02463036,  0.01217907])"
      ]
     },
     "execution_count": 23,
     "metadata": {},
     "output_type": "execute_result"
    }
   ],
   "source": [
    "waveform_numpy"
   ]
  },
  {
   "cell_type": "code",
   "execution_count": null,
   "metadata": {},
   "outputs": [],
   "source": []
  }
 ],
 "metadata": {
  "kernelspec": {
   "display_name": "base",
   "language": "python",
   "name": "python3"
  },
  "language_info": {
   "codemirror_mode": {
    "name": "ipython",
    "version": 3
   },
   "file_extension": ".py",
   "mimetype": "text/x-python",
   "name": "python",
   "nbconvert_exporter": "python",
   "pygments_lexer": "ipython3",
   "version": "3.9.7"
  }
 },
 "nbformat": 4,
 "nbformat_minor": 2
}
