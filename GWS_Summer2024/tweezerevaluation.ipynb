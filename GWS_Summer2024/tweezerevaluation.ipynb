{
 "cells": [
  {
   "cell_type": "code",
   "execution_count": 1,
   "metadata": {},
   "outputs": [],
   "source": [
    "from slmfunctions.dependencies import *\n",
    "from slmfunctions.settings import *\n",
    "from slmfunctions.simulation import *\n",
    "from slmfunctions.imageprocessing import *\n",
    "from slmfunctions.phaseretrieval import *\n",
    "from slmfunctions.slmsuite.slmsuite.holography.analysis import *\n",
    "\n",
    "from scipy.optimize import curve_fit\n",
    "\n",
    "\n",
    "# TURN ON FOR EXPERIMENT\n",
    " \n",
    "# from slmfunctions.slmsuite.slmsuite.hardware.slms.meadowlark import Meadowlark\n",
    "# # Meadowlark.info(verbose = True)\n",
    "# from slmfunctions.slmsuite.slmsuite.hardware.cameras.thorlabs import ThorCam\n",
    "# ThorCam.info(verbose=True)\n",
    "# from slmfunctions.slmsuite.slmsuite.hardware.cameraslms import FourierSLM\n",
    "\n",
    "# GLOBAL VARIABLES\n",
    "numpixels = 1300\n",
    "slmwidth = 1200\n",
    "slmheight = 1920"
   ]
  },
  {
   "cell_type": "code",
   "execution_count": 2,
   "metadata": {},
   "outputs": [],
   "source": [
    "# TURN ON FOR EXPERIMENT\n",
    "\n",
    "# slm = Meadowlark(slm_number =1, _number = 1, wav_um = .631, settle_time_s=.3)\n",
    "# cam = ThorCam(serial=\"\", verbose=True)\n",
    "# fs = FourierSLM(cam, slm)\n",
    "# fs.load_wavefront_calibration(plot=True)\n"
   ]
  },
  {
   "cell_type": "code",
   "execution_count": 30,
   "metadata": {},
   "outputs": [
    {
     "name": "stdout",
     "output_type": "stream",
     "text": [
      "Object loaded from Z:\\nsong\\NeutralAtoms\\Ultracold-Research\\GWS_Summer2024\\storage\\tweezers10by10_9spacing_mag3grid.pkl\n",
      "Object loaded from Z:\\nsong\\NeutralAtoms\\Ultracold-Research\\GWS_Summer2024\\storage\\anchors10by10_9spacing_mag3grid.pkl\n"
     ]
    }
   ],
   "source": [
    "imgname = f\"10by10_9spacing_mag3grid\" # LOOKUP NAME\n",
    "load_dir = r'Z:\\nsong\\NeutralAtoms\\Ultracold-Research\\GWS_Summer2024\\storage'  # For PC\n",
    "# load_dir = r'C:\\cleen\\nsong\\2-Research\\UAC Research\\Github\\Ultracold-Research\\GWS-Summer2024\\storage' # For laptop\n",
    "optimizedout_tweezer = load_from_file(load_dir, f'tweezers{imgname}')\n",
    "optimizedout_anchors = load_from_file(load_dir, f'anchors{imgname}')"
   ]
  },
  {
   "cell_type": "code",
   "execution_count": 31,
   "metadata": {},
   "outputs": [],
   "source": [
    "precisetweezerim = remove0thorder(simulatefourier(zeropad(optimizedout_tweezer.get_slmphase(),4096-1300), magnification=1),100)\n",
    "simulatedcamimage = zoomin(precisetweezerim, 1000).get()\n",
    "# targettweezers = removenoise(zoomin(intensityimg, 1),10)"
   ]
  },
  {
   "cell_type": "code",
   "execution_count": 32,
   "metadata": {},
   "outputs": [],
   "source": [
    "preciseanchorim = remove0thorder(simulatefourier(zeropad(optimizedout_anchors.get_slmphase(),4096-1300), magnification=1),100)\n",
    "simulatedcamimage_anchor = zoomin(preciseanchorim, 10000).get()"
   ]
  },
  {
   "cell_type": "code",
   "execution_count": 39,
   "metadata": {},
   "outputs": [
    {
     "data": {
      "text/plain": [
       "<matplotlib.colorbar.Colorbar at 0x2a7660daf40>"
      ]
     },
     "execution_count": 39,
     "metadata": {},
     "output_type": "execute_result"
    },
    {
     "data": {
      "image/png": "[encoded data removed]",
      "text/plain": [
       "<Figure size 432x288 with 2 Axes>"
      ]
     },
     "metadata": {
      "needs_background": "light"
     },
     "output_type": "display_data"
    }
   ],
   "source": [
    "plt.imshow(simulatedcamimage)\n",
    "plt.colorbar()"
   ]
  },
  {
   "cell_type": "code",
   "execution_count": 44,
   "metadata": {},
   "outputs": [
    {
     "name": "stdout",
     "output_type": "stream",
     "text": [
      "Error fitting Gaussian: Optimal parameters not found: Number of calls to function has reached maxfev = 1400.\n",
      "Error fitting Gaussian: Optimal parameters not found: Number of calls to function has reached maxfev = 1400.\n",
      "Error fitting Gaussian: Optimal parameters not found: Number of calls to function has reached maxfev = 1400.\n",
      "Error fitting Gaussian: Optimal parameters not found: Number of calls to function has reached maxfev = 1400.\n",
      "Error fitting Gaussian: Optimal parameters not found: Number of calls to function has reached maxfev = 1400.\n",
      "Error fitting Gaussian: Optimal parameters not found: Number of calls to function has reached maxfev = 1400.\n",
      "Error fitting Gaussian: Optimal parameters not found: Number of calls to function has reached maxfev = 1400.\n",
      "Error fitting Gaussian: Optimal parameters not found: Number of calls to function has reached maxfev = 1400.\n",
      "Error fitting Gaussian: Optimal parameters not found: Number of calls to function has reached maxfev = 1400.\n",
      "Error fitting Gaussian: Optimal parameters not found: Number of calls to function has reached maxfev = 1400.\n",
      "Error fitting Gaussian: Optimal parameters not found: Number of calls to function has reached maxfev = 1400.\n",
      "Error fitting Gaussian: Optimal parameters not found: Number of calls to function has reached maxfev = 1400.\n",
      "Error fitting Gaussian: Optimal parameters not found: Number of calls to function has reached maxfev = 1400.\n",
      "Error fitting Gaussian: Optimal parameters not found: Number of calls to function has reached maxfev = 1400.\n",
      "Error fitting Gaussian: Optimal parameters not found: Number of calls to function has reached maxfev = 1400.\n",
      "Error fitting Gaussian: Optimal parameters not found: Number of calls to function has reached maxfev = 1400.\n",
      "Error fitting Gaussian: Optimal parameters not found: Number of calls to function has reached maxfev = 1400.\n",
      "Error fitting Gaussian: Optimal parameters not found: Number of calls to function has reached maxfev = 1400.\n",
      "Error fitting Gaussian: Optimal parameters not found: Number of calls to function has reached maxfev = 1400.\n"
     ]
    },
    {
     "name": "stderr",
     "output_type": "stream",
     "text": [
      "C:\\Users\\USER\\AppData\\Local\\Temp/ipykernel_51324/3665720311.py:169: RuntimeWarning: invalid value encountered in double_scalars\n",
      "  goodness_of_fit = 1 - np.sum(residuals**2) / np.sum((region - np.mean(region))**2)\n"
     ]
    }
   ],
   "source": [
    "def threshold_array(arr, lower_threshold=0.05, upper_threshold=0.95):\n",
    "    \"\"\"\n",
    "    Modify the array such that values greater than the upper threshold are set to 1\n",
    "    and values less than the lower threshold are set to 0.\n",
    "\n",
    "    Parameters\n",
    "    ----------\n",
    "    arr : numpy.ndarray\n",
    "        The input array to be modified.\n",
    "    lower_threshold : float, optional\n",
    "        The lower threshold, default is 0.05.\n",
    "    upper_threshold : float, optional\n",
    "        The upper threshold, default is 0.95.\n",
    "\n",
    "    Returns\n",
    "    -------\n",
    "    numpy.ndarray\n",
    "        The modified array.\n",
    "    \"\"\"\n",
    "    # Create a copy of the array to avoid modifying the original array\n",
    "    modified_arr = np.copy(arr)\n",
    "    \n",
    "    # Apply the thresholds\n",
    "    modified_arr[modified_arr > upper_threshold] = 1\n",
    "    modified_arr[modified_arr < lower_threshold] = 0\n",
    "    \n",
    "    return modified_arr\n",
    "\n",
    "def assign_blob_coordinates(blobs, grid_size):\n",
    "    # Extract coordinates of detected blobs\n",
    "    coordinates = np.array([blob.pt for blob in blobs[0]])\n",
    "\n",
    "    # Sort blobs by y-coordinates first, then by x-coordinates to get initial order\n",
    "    sorted_indices = np.lexsort((coordinates[:, 0], coordinates[:, 1]))\n",
    "    sorted_coordinates = coordinates[sorted_indices]\n",
    "\n",
    "    # Initialize a numpy array to store the coordinates\n",
    "    blob_coordinates = np.empty(grid_size + (2,), dtype=float)\n",
    "\n",
    "    # Assign coordinates to the 2D array row by row\n",
    "    index = 0\n",
    "    for i in range(grid_size[0]):\n",
    "        # Sort blobs in each row by x-coordinate\n",
    "        row_indices = np.argsort(sorted_coordinates[index:index + grid_size[1], 0])\n",
    "        blob_coordinates[i] = sorted_coordinates[index + row_indices]\n",
    "        index += grid_size[1]\n",
    "\n",
    "    return blob_coordinates\n",
    "\n",
    "# IMPORTANT - Remember how the image conversion for some reason changes the intensity values of the targets. What the fuck?\n",
    "def assign_tweezer_coordinates(tweezers, grid_size):\n",
    "    \"\"\"\n",
    "    Assigns blob coordinates from an image with blobs as points equal to 1.\n",
    "    \n",
    "    Parameters\n",
    "    ----------\n",
    "    tweezers : numpy.ndarray\n",
    "        The 2D numpy array where blobs are represented by points equal to 1.\n",
    "    grid_size : tuple\n",
    "        The size of the grid (rows, cols).\n",
    "        \n",
    "    Returns\n",
    "    -------\n",
    "    blob_coordinates : numpy.ndarray\n",
    "        A 2D numpy array containing the coordinates of blobs.\n",
    "    \"\"\"\n",
    "    # Find coordinates of points equal to 1\n",
    "    coordinates = np.argwhere(tweezers > 0.95)\n",
    "    \n",
    "    # Sort the coordinates by y (row) and then by x (column)\n",
    "    sorted_indices = np.lexsort((coordinates[:, 1], coordinates[:, 0]))\n",
    "    sorted_coordinates = coordinates[sorted_indices]\n",
    "\n",
    "    # Initialize the blob_coordinates array\n",
    "    rows, cols = grid_size\n",
    "    blob_coordinates = np.empty((rows, cols, 2), dtype=int)\n",
    "\n",
    "    # Assign coordinates to the grid\n",
    "    for i in range(rows):\n",
    "        for j in range(cols):\n",
    "            blob_index = i * cols + j\n",
    "            if blob_index < len(sorted_coordinates):\n",
    "                blob_coordinates[i, j] = sorted_coordinates[blob_index]\n",
    "            else:\n",
    "                blob_coordinates[i, j] = [-1, -1]  # Fill with invalid coordinates if not enough blobs\n",
    "\n",
    "    return blob_coordinates\n",
    "\n",
    "def calculate_distances(blobs, grid_size):\n",
    "    # Assign blob coordinates to a 2D array\n",
    "    blob_coordinates = assign_blob_coordinates(blobs, grid_size)\n",
    "    \n",
    "    # Initialize arrays to store distances\n",
    "    horizontal_distances = np.zeros((grid_size[0], grid_size[1] - 1))\n",
    "    vertical_distances = np.zeros((grid_size[0] - 1, grid_size[1]))\n",
    "\n",
    "    # Calculate horizontal distances\n",
    "    for i in range(grid_size[0]):\n",
    "        for j in range(grid_size[1] - 1):\n",
    "            horizontal_distances[i, j] = np.linalg.norm(blob_coordinates[i, j + 1] - blob_coordinates[i, j])\n",
    "\n",
    "    # Calculate vertical distances\n",
    "    for i in range(grid_size[0] - 1):\n",
    "        for j in range(grid_size[1]):\n",
    "            vertical_distances[i, j] = np.linalg.norm(blob_coordinates[i + 1, j] - blob_coordinates[i, j])\n",
    "\n",
    "    return horizontal_distances, vertical_distances\n",
    "\n",
    "def plot_distance_distribution(horizontal_distances, vertical_distances, bin_size_percentage=5):\n",
    "    # Flatten distances to compute histogram\n",
    "    flat_horizontal = horizontal_distances.flatten()\n",
    "    flat_vertical = vertical_distances.flatten()\n",
    "\n",
    "    # Calculate bin sizes based on a percentage of the maximum distance in each set\n",
    "    max_horizontal_distance = np.max(flat_horizontal)\n",
    "    max_vertical_distance = np.max(flat_vertical)\n",
    "    min_horizontal_distance = np.min(flat_horizontal)\n",
    "    min_vertical_distance = np.min(flat_vertical)\n",
    "\n",
    "\n",
    "    bin_size_horizontal = max_horizontal_distance * (bin_size_percentage / 100.0)\n",
    "    bin_size_vertical = max_vertical_distance * (bin_size_percentage / 100.0)\n",
    "\n",
    "    # Calculate bins based on the calculated bin sizes\n",
    "    bins_horizontal = np.arange(min_horizontal_distance-bin_size_horizontal, max_horizontal_distance + bin_size_horizontal, bin_size_horizontal)\n",
    "    bins_vertical = np.arange(min_vertical_distance-bin_size_vertical, max_vertical_distance + bin_size_vertical, bin_size_vertical)\n",
    "\n",
    "    # Plotting horizontal distances histogram\n",
    "    plt.figure(figsize=(12, 6))\n",
    "    plt.subplot(1, 2, 1)\n",
    "    plt.hist(flat_horizontal, bins=bins_horizontal, edgecolor='black')\n",
    "    plt.title('Horizontal Distance Distribution')\n",
    "    plt.xlabel('Distance')\n",
    "    plt.ylabel('Frequency')\n",
    "    plt.tight_layout(pad=3.0)  # Adjust padding around the plot\n",
    "\n",
    "    # Plotting vertical distances histogram\n",
    "    plt.subplot(1, 2, 2)\n",
    "    plt.hist(flat_vertical, bins=bins_vertical, edgecolor='black')\n",
    "    plt.title('Vertical Distance Distribution')\n",
    "    plt.xlabel('Distance')\n",
    "    plt.ylabel('Frequency')\n",
    "    plt.tight_layout(pad=3.0)  # Adjust padding around the plot\n",
    "\n",
    "    # Display plots\n",
    "    plt.show()\n",
    "\n",
    "def gaussian_2d(x, y, x0, y0, sigma_x, sigma_y, amplitude, offset):\n",
    "    \"\"\"2D Gaussian function.\"\"\"\n",
    "    return offset + amplitude * np.exp(\n",
    "        -(((x - x0) ** 2) / (2 * sigma_x ** 2) + ((y - y0) ** 2) / (2 * sigma_y ** 2))\n",
    "    )\n",
    "\n",
    "def fit_gaussian_2d(region):\n",
    "    \"\"\"Fit a 2D Gaussian to the given region.\"\"\"\n",
    "    y, x = np.indices(region.shape)\n",
    "    initial_guess = (region.shape[1] // 2, region.shape[0] // 2, 1, 1, np.max(region), np.min(region))\n",
    "    \n",
    "    try:\n",
    "        popt, _ = curve_fit(\n",
    "            lambda xy, x0, y0, sigma_x, sigma_y, amplitude, offset: gaussian_2d(xy[0], xy[1], x0, y0, sigma_x, sigma_y, amplitude, offset),\n",
    "            (x.ravel(), y.ravel()),\n",
    "            region.ravel(),\n",
    "            p0=initial_guess\n",
    "        )\n",
    "        \n",
    "        fit = gaussian_2d(x, y, *popt)\n",
    "        residuals = region - fit\n",
    "        goodness_of_fit = 1 - np.sum(residuals**2) / np.sum((region - np.mean(region))**2)\n",
    "        return popt, goodness_of_fit\n",
    "    \n",
    "    except Exception as e:\n",
    "        print(f\"Error fitting Gaussian: {e}\")\n",
    "        return initial_guess, 0  # Return initial guess and 0 goodness of fit in case of an error\n",
    "\n",
    "def extract_regions(simulatedcamimage, blob_coordinates, N=3):\n",
    "    \"\"\"\n",
    "    Extract N by N regions centered around each blob, fit a Gaussian, and adjust blob coordinates.\n",
    "\n",
    "    Parameters\n",
    "    ----------\n",
    "    simulatedcamimage : numpy.ndarray\n",
    "        The original 2D array containing the image data.\n",
    "    blob_coordinates : numpy.ndarray\n",
    "        A 2D numpy array containing the coordinates of blobs.\n",
    "    N : int\n",
    "        The size of the region to extract (N by N).\n",
    "\n",
    "    Returns\n",
    "    -------\n",
    "    goodness_of_fit_array : numpy.ndarray\n",
    "        A 2D numpy array containing the goodness of fit values.\n",
    "    updated_blob_coordinates : numpy.ndarray\n",
    "        A 2D numpy array containing the updated blob coordinates.\n",
    "    regions : numpy.ndarray\n",
    "        A 2D numpy array where each entry corresponds to an N by N region centered around each updated blob.\n",
    "    \"\"\"\n",
    "    num_rows, num_cols = blob_coordinates.shape[:2]\n",
    "    half_N = N // 2\n",
    "\n",
    "    regions = np.empty((num_rows, num_cols), dtype=object)\n",
    "    goodness_of_fit_array = np.zeros((num_rows, num_cols))\n",
    "    tweezerpower = np.zeros((num_rows, num_cols))\n",
    "    updated_blob_coordinates = np.zeros_like(blob_coordinates)\n",
    "\n",
    "    for i in range(num_rows):\n",
    "        for j in range(num_cols):\n",
    "            y, x = blob_coordinates[i, j]\n",
    "            \n",
    "            # Round coordinates to the nearest integers\n",
    "            y = int(round(y))\n",
    "            x = int(round(x))\n",
    "\n",
    "            # Ensure the region is within bounds and remains centered\n",
    "            y_start = max(0, y - half_N)\n",
    "            y_end = min(simulatedcamimage.shape[0], y + half_N + 1)\n",
    "            x_start = max(0, x - half_N)\n",
    "            x_end = min(simulatedcamimage.shape[1], x + half_N + 1)\n",
    "\n",
    "            # Extract the region and pad if necessary\n",
    "            region = simulatedcamimage[y_start:y_end, x_start:x_end]\n",
    "            if region.shape[0] < N or region.shape[1] < N:\n",
    "                padded_region = np.zeros((N, N))\n",
    "                padded_region[:region.shape[0], :region.shape[1]] = region\n",
    "                region = padded_region\n",
    "\n",
    "            regions[i, j] = region\n",
    "\n",
    "            # Fit a 2D Gaussian to the region\n",
    "            popt, goodness_of_fit = fit_gaussian_2d(region)\n",
    "            goodness_of_fit_array[i, j] = goodness_of_fit\n",
    "\n",
    "            tweezerpower[i,j] = popt[4]\n",
    "            # tweezerpower[i,j] = cp.mean(region)\n",
    "\n",
    "            # Update the blob coordinates based on the fitted center\n",
    "            updated_y = y_start + popt[1]\n",
    "            updated_x = x_start + popt[0]\n",
    "            updated_blob_coordinates[i, j] = [updated_y, updated_x]\n",
    "\n",
    "    # Re-run the region extraction with the updated blob coordinates\n",
    "    regions = np.empty((num_rows, num_cols), dtype=object)\n",
    "    for i in range(num_rows):\n",
    "        for j in range(num_cols):\n",
    "            y, x = updated_blob_coordinates[i, j]\n",
    "            \n",
    "            # Round coordinates to the nearest integers\n",
    "            y = int(round(y))\n",
    "            x = int(round(x))\n",
    "\n",
    "            # Ensure the region is within bounds and remains centered\n",
    "            y_start = max(0, y - half_N)\n",
    "            y_end = min(simulatedcamimage.shape[0], y + half_N + 1)\n",
    "            x_start = max(0, x - half_N)\n",
    "            x_end = min(simulatedcamimage.shape[1], x + half_N + 1)\n",
    "\n",
    "            # Extract the region and pad if necessary\n",
    "            region = simulatedcamimage[y_start:y_end, x_start:x_end]\n",
    "            if region.shape[0] < N or region.shape[1] < N:\n",
    "                padded_region = np.zeros((N, N))\n",
    "                padded_region[:region.shape[0], :region.shape[1]] = region\n",
    "                region = padded_region\n",
    "\n",
    "            regions[i, j] = region\n",
    "        \n",
    "\n",
    "    return goodness_of_fit_array, updated_blob_coordinates, regions, tweezerpower\n",
    "\n",
    "def map_blobstotarget_int(tweezer_coordinates, blobintensity_values, target_shape):\n",
    "    \"\"\"\n",
    "    Assign intensity values to a new array of the same size as the target array,\n",
    "    using the coordinates from the blob_coordinates.\n",
    "\n",
    "    Parameters\n",
    "    ----------\n",
    "    blob_coordinates : numpy.ndarray\n",
    "        The coordinates of the blobs in a 2D grid.\n",
    "    intensity_values : numpy.ndarray\n",
    "        The intensity values extracted from the extract_regions function.\n",
    "    target_shape : tuple\n",
    "        The shape of the target array (rows, cols).\n",
    "\n",
    "    Returns\n",
    "    -------\n",
    "    numpy.ndarray\n",
    "        The target array with assigned intensity values.\n",
    "    \"\"\"\n",
    "    target_array = np.zeros(target_shape)\n",
    "\n",
    "    for i in range(tweezer_coordinates.shape[0]):\n",
    "        for j in range(tweezer_coordinates.shape[1]):\n",
    "            y, x = tweezer_coordinates[i, j]\n",
    "            if 0 <= y < target_shape[0] and 0 <= x < target_shape[1]:\n",
    "                target_array[y, x] = blobintensity_values[i, j]\n",
    "    target_array = target_array / np.max(target_array)\n",
    "    return target_array\n",
    "\n",
    "def map_blobstotarget_region(tweezer_coordinates, regions, target_shape, demag_factor):\n",
    "    \"\"\"\n",
    "    Map camera regions to the target array with demagnification by averaging blocks of pixels.\n",
    "\n",
    "    Parameters\n",
    "    ----------\n",
    "    blob_coordinates : numpy.ndarray\n",
    "        The coordinates of the blobs in a 2D grid.\n",
    "    regions : numpy.ndarray\n",
    "        The regions extracted from the extract_regions function.\n",
    "    target_shape : tuple\n",
    "        The shape of the target array (rows, cols).\n",
    "    demag_factor : int\n",
    "        The demagnification factor for averaging blocks of pixels.\n",
    "\n",
    "    Returns\n",
    "    -------\n",
    "    numpy.ndarray\n",
    "        The target array with mapped and demagnified regions.\n",
    "    \"\"\"\n",
    "    target_array = np.zeros(target_shape)\n",
    "\n",
    "    for i in range(tweezer_coordinates.shape[0]):\n",
    "        for j in range(tweezer_coordinates.shape[1]):\n",
    "            y, x = tweezer_coordinates[i, j]\n",
    "            if 0 <= y < target_shape[0] and 0 <= x < target_shape[1]:\n",
    "                region = regions[i, j]\n",
    "                # Calculate the average of blocks of pixels\n",
    "                demag_region = region.reshape((region.shape[0] // demag_factor, demag_factor, -1, demag_factor)).mean(axis=(1, 3))\n",
    "                target_array[y, x] = demag_region.mean()  # or other desired operation\n",
    "\n",
    "    target_array = target_array / np.max(target_array)\n",
    "    return target_array\n",
    "\n",
    "def FeedbackPen_camerabased(w, mappedblobs, target_im):\n",
    "    threshold = cp.mean(target_im)\n",
    "    meantweezervalue = cp.mean(mappedblobs[target_im > threshold])\n",
    "    w[target_im>threshold] = cp.sqrt(meantweezervalue / mappedblobs[target_im>threshold])\n",
    "    return w\n",
    "\n",
    "\n",
    "tweezershape = (10,10)\n",
    "target_coords = assign_tweezer_coordinates(threshold_array(optimizedout_tweezer.get_uniformtarget().get()), tweezershape)\n",
    "# plots = plot_distance_distribution(target_hordist, target_vertdist, 1)\n",
    "# target_gaussfit, target_blobcoords_v2, target_regions, target_tweezerint = extract_regions(simulatedcamimage, target_blobcoords, 9)\n",
    "\n",
    "\n",
    "\n",
    "camerablobs = blob_detect(simulatedcamimage)\n",
    "camera_blobcoords= assign_blob_coordinates(camerablobs, tweezershape)\n",
    "camera_hordist, camera_vertdist = calculate_distances(camerablobs, tweezershape)\n",
    "# plots = plot_distance_distribution(camera_hordist, camera_vertdist, 1)\n",
    "camera_gaussfit, camera_blobcoords_v2, camera_regions, camera_tweezerint = extract_regions(simulatedcamimage, camera_blobcoords, 15)\n",
    "\n",
    "mappedblobs_int = map_blobstotarget_int(target_coords, camera_tweezerint, cp.shape(optimizedout_tweezer.get_targetim().get()))\n",
    "mappedblobs_region = map_blobstotarget_region(target_coords, camera_regions, cp.shape(optimizedout_tweezer.get_targetim().get()),1)\n",
    "\n"
   ]
  },
  {
   "cell_type": "code",
   "execution_count": null,
   "metadata": {},
   "outputs": [],
   "source": []
  },
  {
   "cell_type": "code",
   "execution_count": null,
   "metadata": {},
   "outputs": [],
   "source": []
  },
  {
   "cell_type": "code",
   "execution_count": null,
   "metadata": {},
   "outputs": [],
   "source": []
  },
  {
   "cell_type": "code",
   "execution_count": null,
   "metadata": {},
   "outputs": [],
   "source": []
  },
  {
   "cell_type": "code",
   "execution_count": null,
   "metadata": {},
   "outputs": [],
   "source": []
  },
  {
   "cell_type": "code",
   "execution_count": 35,
   "metadata": {},
   "outputs": [
    {
     "data": {
      "text/plain": [
       "<matplotlib.colorbar.Colorbar at 0x2a765fc1700>"
      ]
     },
     "execution_count": 35,
     "metadata": {},
     "output_type": "execute_result"
    },
    {
     "data": {
      "image/png": "[encoded data removed]",
      "text/plain": [
       "<Figure size 432x288 with 2 Axes>"
      ]
     },
     "metadata": {
      "needs_background": "light"
     },
     "output_type": "display_data"
    }
   ],
   "source": [
    "plt.imshow(zoomin(cp.array(mappedblobs_int)).get())\n",
    "plt.colorbar()"
   ]
  },
  {
   "cell_type": "code",
   "execution_count": 58,
   "metadata": {},
   "outputs": [
    {
     "data": {
      "text/plain": [
       "<matplotlib.colorbar.Colorbar at 0x1c5e92fe7f0>"
      ]
     },
     "execution_count": 58,
     "metadata": {},
     "output_type": "execute_result"
    },
    {
     "data": {
      "image/png": "[encoded data removed]",
      "text/plain": [
       "<Figure size 432x288 with 2 Axes>"
      ]
     },
     "metadata": {
      "needs_background": "light"
     },
     "output_type": "display_data"
    }
   ],
   "source": [
    "plt.imshow(zoomin(cp.array(mappedblobs_region)).get() - zoomin(cp.array(mappedblobs_int)).get())\n",
    "plt.colorbar()"
   ]
  },
  {
   "cell_type": "code",
   "execution_count": null,
   "metadata": {},
   "outputs": [],
   "source": []
  },
  {
   "cell_type": "code",
   "execution_count": null,
   "metadata": {},
   "outputs": [],
   "source": []
  },
  {
   "cell_type": "code",
   "execution_count": 36,
   "metadata": {},
   "outputs": [
    {
     "data": {
      "text/plain": [
       "<matplotlib.image.AxesImage at 0x217dd633fd0>"
      ]
     },
     "execution_count": 36,
     "metadata": {},
     "output_type": "execute_result"
    },
    {
     "data": {
      "image/png": "[encoded data removed]",
      "text/plain": [
       "<Figure size 432x288 with 1 Axes>"
      ]
     },
     "metadata": {
      "needs_background": "light"
     },
     "output_type": "display_data"
    }
   ],
   "source": [
    "plt.imshow(simulatedcamimage)"
   ]
  },
  {
   "cell_type": "code",
   "execution_count": 34,
   "metadata": {},
   "outputs": [
    {
     "name": "stdout",
     "output_type": "stream",
     "text": [
      "Coordinates of detected blobs:\n",
      "Blob 0: x = 20.911928176879883, y = 76.55889892578125\n",
      "Blob 1: x = 48.83226013183594, y = 75.78893280029297\n",
      "Blob 2: x = 76.31561279296875, y = 75.95011138916016\n",
      "Blob 3: x = 48.57984924316406, y = 48.488101959228516\n",
      "Blob 4: x = 21.23944091796875, y = 48.300567626953125\n",
      "Blob 5: x = 76.32981872558594, y = 48.3043098449707\n",
      "Blob 6: x = 76.32222747802734, y = 20.49449920654297\n",
      "Blob 7: x = 48.67172622680664, y = 20.3509578704834\n",
      "Blob 8: x = 21.06722068786621, y = 20.344568252563477\n"
     ]
    }
   ],
   "source": [
    "def print_blob_coordinates(blobs):\n",
    "    \"\"\"\n",
    "    Print the coordinates of all detected blobs.\n",
    "\n",
    "    Parameters\n",
    "    ----------\n",
    "    blobs : tuple\n",
    "        A tuple containing the list of KeyPoints and the SimpleBlobDetector object.\n",
    "    \"\"\"\n",
    "    # Extract the list of KeyPoints from the blobs tuple\n",
    "    keypoints = blobs[0]\n",
    "\n",
    "    print(\"Coordinates of detected blobs:\")\n",
    "    for i, blob in enumerate(keypoints):\n",
    "        print(f\"Blob {i}: x = {blob.pt[0]}, y = {blob.pt[1]}\")\n",
    "        \n",
    "print_blob_coordinates(testblob)"
   ]
  },
  {
   "cell_type": "code",
   "execution_count": null,
   "metadata": {},
   "outputs": [],
   "source": []
  },
  {
   "cell_type": "code",
   "execution_count": null,
   "metadata": {},
   "outputs": [],
   "source": []
  },
  {
   "cell_type": "code",
   "execution_count": null,
   "metadata": {},
   "outputs": [],
   "source": []
  },
  {
   "cell_type": "code",
   "execution_count": null,
   "metadata": {},
   "outputs": [],
   "source": []
  }
 ],
 "metadata": {
  "kernelspec": {
   "display_name": "base",
   "language": "python",
   "name": "python3"
  },
  "language_info": {
   "codemirror_mode": {
    "name": "ipython",
    "version": 3
   },
   "file_extension": ".py",
   "mimetype": "text/x-python",
   "name": "python",
   "nbconvert_exporter": "python",
   "pygments_lexer": "ipython3",
   "version": "3.9.7"
  }
 },
 "nbformat": 4,
 "nbformat_minor": 2
}
