{
 "cells": [
  {
   "cell_type": "code",
   "execution_count": null,
   "metadata": {},
   "outputs": [],
   "source": [
    "from slmfunctions.dependencies import *\n",
    "from slmfunctions.settings import *\n",
    "from slmfunctions.general import *\n",
    "from slmfunctions.imageprocessing import *\n",
    "from slmfunctions.phaseretrieval import *"
   ]
  },
  {
   "cell_type": "code",
   "execution_count": null,
   "metadata": {},
   "outputs": [],
   "source": [
    "imgname = f\"3by3_3spacing_phase\" # LOOKUP NAME\n",
    "## LOAD IN PRECOMPUTE\n",
    "save_dir = r'C:\\cleen\\nsong\\2-Research\\UAC Research\\PhaseStorage\\May2024'\n",
    "phaseimg_path = os.path.join(save_dir, f\"{imgname}_phase.bmp\")\n",
    "intimg_path = os.path.join(save_dir, f\"{imgname}_virtualint.jpg\")\n",
    "\n",
    "phaseimg = np.array(Image.open(phaseimg_path).convert('L')) / 255*2*np.pi - np.pi\n",
    "intensityimg = np.array(Image.open(intimg_path).convert('L'))\n"
   ]
  },
  {
   "cell_type": "code",
   "execution_count": null,
   "metadata": {},
   "outputs": [],
   "source": []
  },
  {
   "cell_type": "code",
   "execution_count": null,
   "metadata": {},
   "outputs": [],
   "source": []
  },
  {
   "cell_type": "code",
   "execution_count": null,
   "metadata": {},
   "outputs": [],
   "source": []
  }
 ],
 "metadata": {
  "language_info": {
   "name": "python"
  }
 },
 "nbformat": 4,
 "nbformat_minor": 2
}
