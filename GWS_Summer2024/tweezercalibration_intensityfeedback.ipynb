{
 "cells": [
  {
   "cell_type": "code",
   "execution_count": 2,
   "metadata": {},
   "outputs": [
    {
     "name": "stdout",
     "output_type": "stream",
     "text": [
      "The autoreload extension is already loaded. To reload it, use:\n",
      "  %reload_ext autoreload\n"
     ]
    }
   ],
   "source": [
    "%load_ext autoreload\n",
    "%autoreload 2\n",
    "%matplotlib inline\n",
    "\n",
    "import sys, os\n",
    "import warnings\n",
    "warnings.filterwarnings(\"ignore\")\n",
    "import numpy as np\n",
    "import matplotlib.pyplot as plt\n",
    "import matplotlib as mpl\n",
    "mpl.rc('image', cmap='Blues')\n",
    "from slmsuite.holography.algorithms import Hologram\n",
    "from slmsuite.hardware.slms.slm import SLM\n",
    "from slmsuite.hardware.cameras.camera import Camera\n",
    "from slmsuite.hardware.cameraslms import FourierSLM\n",
    "from slmsuite.holography.algorithms import SpotHologram\n",
    "from slmsuite.holography import analysis\n",
    "import copy\n",
    "from IPython.display import Image\n",
    "import imageio\n",
    "import cv2\n",
    "import numpy as np\n",
    "import ctypes\n",
    "from ctypes import *\n",
    "from scipy import misc\n",
    "from time import sleep\n",
    "import csv\n",
    "from scipy.optimize import curve_fit\n",
    "import matplotlib.pyplot as plt\n",
    "# from instrumental.drivers.cameras import uc480 \n",
    "\n",
    "from slmfunctions.dependencies import *\n",
    "from slmfunctions.settings import *\n",
    "from slmfunctions.simulation import *\n",
    "from slmfunctions.imageprocessing import *\n",
    "from slmfunctions.phaseretrieval import *\n",
    "from slmfunctions.slmsuite.slmsuite.holography.analysis import *\n",
    "\n",
    "from scipy.optimize import curve_fit\n",
    "\n",
    "\n",
    "# TURN ON FOR EXPERIMENT\n",
    "\n",
    "# from slmfunctions.slmsuite.slmsuite.hardware.slms.meadowlark import Meadowlark\n",
    "# # Meadowlark.info(verbose = True)\n",
    "# from slmfunctions.slmsuite.slmsuite.hardware.cameras.thorlabs import ThorCam\n",
    "# ThorCam.info(verbose=True)\n",
    "# from slmfunctions.slmsuite.slmsuite.hardware.cameraslms import FourierSLM\n",
    "\n",
    "# GLOBAL VARIABLES\n",
    "numpixels = 1300\n",
    "slmwidth = 1200\n",
    "slmheight = 1920\n",
    "\n"
   ]
  },
  {
   "cell_type": "code",
   "execution_count": null,
   "metadata": {},
   "outputs": [],
   "source": [
    "\n",
    "imgname = f\"3by3_9spacing_mag3\" # LOOKUP NAME\n",
    "# load_dir = r'Z:\\nsong\\NeutralAtoms\\Ultracold-Research\\GWS-Summer2024\\storage'  # For PC\n",
    "load_dir = r'C:\\cleen\\nsong\\2-Research\\UAC Research\\Github\\Ultracold-Research\\GWS-Summer2024\\storage' # For laptop\n",
    "phaseimg_path = os.path.join(load_dir, f\"{imgname}_phase.bmp\")\n",
    "virtualintimg_path = os.path.join(load_dir, f\"{imgname}_virtualint.jpg\")\n",
    "intimg_path = os.path.join(load_dir, f\"{imgname}_int.jpg\")\n",
    "\n",
    "phaseimg = cp.zeros((numpixels, numpixels))\n",
    "slmphase = cp.array(Image.open(phaseimg_path).convert('L')) / 255*2*cp.pi - cp.pi\n",
    "phaseimg = slmphase[0:slmwidth, slmheight // 2 - slmwidth // 2: slmheight // 2 + slmwidth // 2]\n",
    "virtualintensityimg = (cp.array(Image.open(virtualintimg_path).convert('L')) / 255)\n",
    "intensityimg = (cp.array(Image.open(intimg_path).convert('L')).astype(np.uint8) / 255)"
   ]
  },
  {
   "cell_type": "code",
   "execution_count": null,
   "metadata": {},
   "outputs": [],
   "source": [
    "### For image processing purposes\n",
    "targetvectors = zoomin(intensityimg)"
   ]
  },
  {
   "cell_type": "code",
   "execution_count": null,
   "metadata": {},
   "outputs": [],
   "source": [
    "from slmsuite.hardware.slms.meadowlark import Meadowlark\n",
    "slm = Meadowlark(sdk_path=\"C:\\\\Program Files\\\\Meadowlark Optics\\\\Blink 1920 HDMI\", lut_path=r'C:\\cleen\\nsong\\2-Research\\UAC Research\\Github\\Ultracold-Research\\GWS-Summer2024\\initslm\\globalcalibrationat650_june2024.lut')\n",
    "slm.load_vendor_phase_correction(\n",
    "    file_path=r'C:\\cleen\\nsong\\2-Research\\UAC Research\\Github\\Ultracold-Research\\MeadowLark SLM\\SLM\\slm6287_at785_WFC.jpg',  # Update this path to load your calibration\n",
    ")"
   ]
  },
  {
   "cell_type": "code",
   "execution_count": null,
   "metadata": {},
   "outputs": [],
   "source": [
    "from slmsuite.hardware.cameras.thorlabs import ThorCam\n",
    "ThorCam.info(verbose=True)\n",
    "cam = ThorCam()"
   ]
  },
  {
   "cell_type": "code",
   "execution_count": null,
   "metadata": {},
   "outputs": [],
   "source": []
  },
  {
   "cell_type": "code",
   "execution_count": null,
   "metadata": {},
   "outputs": [],
   "source": [
    "# Write phase to slm\n",
    "slm.write(slmphase, settle=True)\n",
    "# Get camera image\n",
    "cam.set_exposure(0.02)\n",
    "image = cam.get_image()\n",
    "\n"
   ]
  },
  {
   "cell_type": "code",
   "execution_count": null,
   "metadata": {},
   "outputs": [],
   "source": [
    "\n",
    "\n",
    "anchors, angle, Xmag, Ymag, Xshift, Yshift = identify_corners(arr1[100:-100,100:-100], arr1, 50)\n",
    "\n",
    "target_anchors = writeimg(anchors, f\"anchors_{imgname}\")\n",
    "\n",
    "target_im_anchors = np.asarray(Image.open(f\"anchors_{imgname}.bmp\"))\n",
    "newtar = np.zeros((1920*precision,1200*precision))\n",
    "\n",
    "newtar[:,:] = target_im_anchors[:,:,1]\n",
    "target_im_anchors = newtar / np.max(newtar)\n",
    "\n",
    "\n",
    "np.savez_compressed(f\"anchors_netarray_{imgname}.npz\", array1=phase, array2 = PS_shape, array3 = w_prev, array4 = w)\n",
    "loaded_data = np.load(f\"netarray_{imgname}.npz\")\n",
    "phase = loaded_data['array1']\n",
    "PS_shape = loaded_data['array2']\n",
    "w_prev = loaded_data['array3']\n",
    "w = loaded_data['array4']\n",
    "\n",
    "anchors_loaded_data = np.load(f\"anchors_netarray_{imgname}.npz\")\n",
    "anchors_phase = anchors_loaded_data['array1']\n",
    "anchors_PS_shape = anchors_loaded_data['array2']\n",
    "anchors_w_prev = anchors_loaded_data['array3']\n",
    "anchors_w = anchors_loaded_data['array4']\n",
    "\n",
    "## NOW SHOW THE ANCHORS\n",
    "anchors_phase_c = 0\n",
    "anchors_slminput = 0\n",
    "anchors_phases_1d = (anchors_phase.T).ravel().astype(np.uint8)\n",
    "anchors_phases_c = np.empty(anchors_phases_1d.shape, dtype=np.uint8, order='C')\n",
    "anchors_phases_c[:] = anchors_phases_1d\n",
    "anchors_slminput = anchors_phases_c\n",
    "slm_lib.Write_image(anchors_slminput.ctypes.data_as(POINTER(c_ubyte)), c_uint(1))\n",
    "sleep(0.04)       \n",
    "anchors_camera_test =  cam.grab_image(timeout='100s', copy=True, exposure_time = '2ms')\n",
    "plt.imshow(anchors_camera_test)\n",
    "plt.colorbar()\n",
    "plt.show\n",
    "identify_tweezers(anchors_camera_test_cut, 80)\n",
    "\n",
    "anchors_matched, angle, Xmag, Ymag, Xshift, Yshift = match_images(anchors_camera_test_cut, anchors_target_formatching_numpy,80)\n",
    "\n",
    "# plt.imshow(anchors_matched[500:700,1100:1300] + anchors_target_formatching_numpy[500:700,1100:1300])\n",
    "plt.imshow(anchors_matched[300:900,1100:1600] + anchors_target_formatching_numpy[300:900,1100:1600])\n",
    "plt.colorbar()\n",
    "params = angle, Xmag, Ymag, Xshift, Yshift\n",
    "### Test to check local image matching works\n",
    "localtest = np.zeros(np.shape(anchors_camera_test_cut))\n",
    "localtest[3:-1,3:-1] = anchors_camera_test_cut[0:-4,0:-4]\n",
    "\n",
    "result = match_images_local(localtest, anchors_target_formatching_numpy, params, 10)\n",
    "\n"
   ]
  },
  {
   "cell_type": "code",
   "execution_count": null,
   "metadata": {},
   "outputs": [],
   "source": []
  },
  {
   "cell_type": "code",
   "execution_count": null,
   "metadata": {},
   "outputs": [],
   "source": []
  },
  {
   "cell_type": "code",
   "execution_count": null,
   "metadata": {},
   "outputs": [],
   "source": []
  },
  {
   "cell_type": "code",
   "execution_count": null,
   "metadata": {},
   "outputs": [],
   "source": []
  }
 ],
 "metadata": {
  "kernelspec": {
   "display_name": "base",
   "language": "python",
   "name": "python3"
  },
  "language_info": {
   "codemirror_mode": {
    "name": "ipython",
    "version": 3
   },
   "file_extension": ".py",
   "mimetype": "text/x-python",
   "name": "python",
   "nbconvert_exporter": "python",
   "pygments_lexer": "ipython3",
   "version": "3.9.7"
  }
 },
 "nbformat": 4,
 "nbformat_minor": 2
}
