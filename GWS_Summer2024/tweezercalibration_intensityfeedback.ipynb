{
 "cells": [
  {
   "cell_type": "code",
   "execution_count": 2,
   "metadata": {},
   "outputs": [
    {
     "name": "stdout",
     "output_type": "stream",
     "text": [
      "cupy not installed. Using numpy.\n",
      "The autoreload extension is already loaded. To reload it, use:\n",
      "  %reload_ext autoreload\n"
     ]
    }
   ],
   "source": [
    "%load_ext autoreload\n",
    "%autoreload 2\n",
    "%matplotlib inline\n",
    "\n",
    "import sys, os\n",
    "import warnings\n",
    "warnings.filterwarnings(\"ignore\")\n",
    "import numpy as np\n",
    "import matplotlib.pyplot as plt\n",
    "import matplotlib as mpl\n",
    "mpl.rc('image', cmap='Blues')\n",
    "from slmsuite.holography.algorithms import Hologram\n",
    "from slmsuite.hardware.slms.slm import SLM\n",
    "from slmsuite.hardware.cameras.camera import Camera\n",
    "from slmsuite.hardware.cameraslms import FourierSLM\n",
    "from slmsuite.holography.algorithms import SpotHologram\n",
    "from slmsuite.holography import analysis\n",
    "import copy\n",
    "from IPython.display import Image\n",
    "import imageio\n",
    "import cv2\n",
    "import numpy as np\n",
    "import ctypes\n",
    "from ctypes import *\n",
    "from scipy import misc\n",
    "from time import sleep \n",
    "import csv\n",
    "from scipy.optimize import curve_fit\n",
    "import matplotlib.pyplot as plt\n",
    "# from instrumental.drivers.cameras import uc480 \n",
    "\n",
    "from slmfunctions.dependencies import *\n",
    "from slmfunctions.settings import *\n",
    "from slmfunctions.simulation import *\n",
    "from slmfunctions.imageprocessing import *\n",
    "from slmfunctions.phaseretrieval import *\n",
    "from slmfunctions.slmsuite.slmsuite.holography.analysis import *\n",
    "\n",
    "from scipy.optimize import curve_fit\n",
    "\n",
    "\n",
    "# TURN ON FOR EXPERIMENT\n",
    "\n",
    "# from slmfunctions.slmsuite.slmsuite.hardware.slms.meadowlark import Meadowlark\n",
    "# # Meadowlark.info(verbose = True)\n",
    "# from slmfunctions.slmsuite.slmsuite.hardware.cameras.thorlabs import ThorCam\n",
    "# ThorCam.info(verbose=True)\n",
    "# from slmfunctions.slmsuite.slmsuite.hardware.cameraslms import FourierSLM\n",
    "\n",
    "# GLOBAL VARIABLES\n",
    "numpixels = 1300\n",
    "slmwidth = 1200\n",
    "slmheight = 1920\n",
    "\n"
   ]
  },
  {
   "cell_type": "code",
   "execution_count": null,
   "metadata": {},
   "outputs": [],
   "source": [
    "imgname = f\"10by10_9spacing_mag3grid\" # LOOKUP NAME\n",
    "load_dir = r'Z:\\nsong\\NeutralAtoms\\Ultracold-Research\\GWS_Summer2024\\storage'  # For PC\n",
    "# load_dir = r'C:\\cleen\\nsong\\2-Research\\UAC Research\\Github\\Ultracold-Research\\GWS-Summer2024\\storage' # For laptop\n",
    "\n",
    "# Local laptop stroage\n",
    "load_dir = r'C:\\cleen\\nsong\\2-Research\\UAC Research\\Github\\ColdStorage'\n",
    "\n",
    "optimizedout_tweezer = load_from_file(load_dir, f'tweezers{imgname}')\n",
    "optimizedout_anchors = load_from_file(load_dir, f'anchors{imgname}')"
   ]
  },
  {
   "cell_type": "code",
   "execution_count": null,
   "metadata": {},
   "outputs": [],
   "source": [
    "from slmsuite.hardware.slms.meadowlark import Meadowlark\n",
    "slm = Meadowlark(sdk_path=\"C:\\\\Program Files\\\\Meadowlark Optics\\\\Blink 1920 HDMI\", \n",
    "                 lut_path=r'C:\\cleen\\nsong\\2-Research\\UAC Research\\Github\\Ultracold-Research\\GWS-Summer2024\\initslm\\globalcalibrationat650_june2024.lut')\n",
    "slm.load_vendor_phase_correction(\n",
    "    file_path=r'C:\\cleen\\nsong\\2-Research\\UAC Research\\Github\\Ultracold-Research\\MeadowLark SLM\\SLM\\slm6287_at785_WFC.jpg',  # Update this path to load your calibration\n",
    ")"
   ]
  },
  {
   "cell_type": "code",
   "execution_count": null,
   "metadata": {},
   "outputs": [],
   "source": [
    "from slmsuite.hardware.cameras.thorlabs import ThorCam\n",
    "ThorCam.info(verbose=True)\n",
    "cam = ThorCam()"
   ]
  },
  {
   "cell_type": "code",
   "execution_count": null,
   "metadata": {},
   "outputs": [],
   "source": [
    "def Exp_configureanchors(cam, slm, tweezerGWS, anchorGWS,exposure = 0.02,rotateby90=0, fliphorizontal=False, flipvertical=False):\n",
    "    anchorphase = anchorGWS.get_slmphase() + np.pi # Because slmphase is currently stored -pi to pi\n",
    "    anchorphase = maptoslm(anchorphase)\n",
    "    slm.write(anchorphase, settle=True)\n",
    "    \n",
    "    cam.set_exposure(exposure)\n",
    "    camimage_anchor = adjustimage(cam.get_image(), rotateby90, fliphorizontal, flipvertical)\n",
    "    \n",
    "    anchorblobs = blob_detect(camimage_anchor)\n",
    "    corners = identifycorners(anchorblobs)\n",
    "    angle = calculateangle(camimage_anchor)\n",
    "    refinedcamimage_anchor = rotate_image(camimage_anchor, angle)\n",
    "    \n",
    "    return angle, refinedcamimage_anchor\n",
    "\n",
    "\n",
    "def Exp_cameratoarray( ):\n",
    "    gridsize = get_gridsize(tweezerGWS.get_uniformtarget())\n",
    "    camerab\n",
    "    \n",
    "    \n",
    "def camerafeedback_tweezers(camobj, slmobj, GWSobj, ):"
   ]
  },
  {
   "cell_type": "code",
   "execution_count": null,
   "metadata": {},
   "outputs": [],
   "source": []
  },
  {
   "cell_type": "code",
   "execution_count": null,
   "metadata": {},
   "outputs": [],
   "source": []
  },
  {
   "cell_type": "code",
   "execution_count": null,
   "metadata": {},
   "outputs": [],
   "source": [
    "# Write phase to slm\n",
    "slm.write(slmphase, settle=True)\n",
    "# Get camera image\n",
    "cam.set_exposure(0.02)\n",
    "image = cam.get_image()\n",
    "\n"
   ]
  },
  {
   "cell_type": "code",
   "execution_count": null,
   "metadata": {},
   "outputs": [],
   "source": []
  },
  {
   "cell_type": "code",
   "execution_count": null,
   "metadata": {},
   "outputs": [],
   "source": []
  },
  {
   "cell_type": "code",
   "execution_count": null,
   "metadata": {},
   "outputs": [],
   "source": []
  },
  {
   "cell_type": "code",
   "execution_count": null,
   "metadata": {},
   "outputs": [],
   "source": []
  },
  {
   "cell_type": "code",
   "execution_count": null,
   "metadata": {},
   "outputs": [],
   "source": []
  },
  {
   "cell_type": "code",
   "execution_count": null,
   "metadata": {},
   "outputs": [],
   "source": []
  },
  {
   "cell_type": "code",
   "execution_count": null,
   "metadata": {},
   "outputs": [],
   "source": []
  },
  {
   "cell_type": "code",
   "execution_count": null,
   "metadata": {},
   "outputs": [],
   "source": []
  },
  {
   "cell_type": "code",
   "execution_count": null,
   "metadata": {},
   "outputs": [],
   "source": []
  }
 ],
 "metadata": {
  "kernelspec": {
   "display_name": "base",
   "language": "python",
   "name": "python3"
  },
  "language_info": {
   "codemirror_mode": {
    "name": "ipython",
    "version": 3
   },
   "file_extension": ".py",
   "mimetype": "text/x-python",
   "name": "python",
   "nbconvert_exporter": "python",
   "pygments_lexer": "ipython3",
   "version": "3.9.19"
  }
 },
 "nbformat": 4,
 "nbformat_minor": 2
}
