{
 "cells": [
  {
   "cell_type": "code",
   "execution_count": 6,
   "metadata": {},
   "outputs": [
    {
     "name": "stdout",
     "output_type": "stream",
     "text": [
      "[[0 0 0 0 0]\n",
      " [0 0 0 0 0]\n",
      " [0 0 1 0 0]\n",
      " [0 0 0 0 0]\n",
      " [0 0 0 0 0]]\n"
     ]
    }
   ],
   "source": [
    "import numpy as np\n",
    "\n",
    "def get_nonzero_grid(array, padding=0):\n",
    "    # Find indices of nonzero elements\n",
    "    nonzero_indices = np.nonzero(array)\n",
    "\n",
    "    # Get the bounding box of nonzero elements\n",
    "    min_row, max_row = np.min(nonzero_indices[0]), np.max(nonzero_indices[0])\n",
    "    min_col, max_col = np.min(nonzero_indices[1]), np.max(nonzero_indices[1])\n",
    "\n",
    "    # Add padding to the bounding box\n",
    "    min_row_pad = max(min_row - padding, 0)\n",
    "    max_row_pad = min(max_row + padding + 1, array.shape[0])\n",
    "    min_col_pad = max(min_col - padding, 0)\n",
    "    max_col_pad = min(max_col + padding + 1, array.shape[1])\n",
    "\n",
    "    # Extract the grid with padding\n",
    "    grid_with_padding = array[min_row_pad:max_row_pad, min_col_pad:max_col_pad]\n",
    "\n",
    "    return grid_with_padding\n",
    "\n",
    "# Example usage\n",
    "arr = np.array([\n",
    "    [0, 0, 0, 0, 0, 0, 0],\n",
    "    [0, 0, 0, 0, 0, 0, 0],\n",
    "    [0, 0, 0, 0, 1, 0, 0],\n",
    "    [0, 0, 0, 0, 0, 0, 0],\n",
    "    [0, 0, 0, 0, 0, 0, 0],\n",
    "    [0, 0, 0, 0, 0, 0, 0]\n",
    "])\n",
    "\n",
    "grid_snapshot = get_nonzero_grid(arr, padding=2)\n",
    "print(grid_snapshot)\n"
   ]
  },
  {
   "cell_type": "code",
   "execution_count": null,
   "metadata": {},
   "outputs": [],
   "source": []
  }
 ],
 "metadata": {
  "kernelspec": {
   "display_name": "base",
   "language": "python",
   "name": "python3"
  },
  "language_info": {
   "codemirror_mode": {
    "name": "ipython",
    "version": 3
   },
   "file_extension": ".py",
   "mimetype": "text/x-python",
   "name": "python",
   "nbconvert_exporter": "python",
   "pygments_lexer": "ipython3",
   "version": "3.9.13"
  }
 },
 "nbformat": 4,
 "nbformat_minor": 2
}
