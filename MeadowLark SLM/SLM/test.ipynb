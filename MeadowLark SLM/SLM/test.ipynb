{
 "cells": [
  {
   "cell_type": "code",
   "execution_count": 2,
   "metadata": {},
   "outputs": [
    {
     "name": "stdout",
     "output_type": "stream",
     "text": [
      "Image has been converted and saved as a JPG file.\n"
     ]
    }
   ],
   "source": [
    "from PIL import Image\n",
    "import numpy as np\n",
    "# Open a BMP file\n",
    "bmp_image = Image.open(r'C:\\cleen\\nsong\\2-Research\\UAC Research\\Github\\Ultracold-Research\\MeadowLark SLM\\SLM\\slm6287_at785_WFC.bmp')\n",
    "if bmp_image.mode != 'L':\n",
    "    bmp_image = bmp_image.convert('L')\n",
    "image_array = np.array(bmp_image)\n",
    "\n",
    "# Convert the numpy array back to an image\n",
    "image_from_array = Image.fromarray(image_array)\n",
    "# Save it as a JPG file\n",
    "image_from_array.save(r'C:\\cleen\\nsong\\2-Research\\UAC Research\\Github\\Ultracold-Research\\MeadowLark SLM\\SLM\\slm6287_at785_WFC.jpg', \"JPEG\")\n",
    "\n",
    "print(\"Image has been converted and saved as a JPG file.\")\n"
   ]
  },
  {
   "cell_type": "code",
   "execution_count": null,
   "metadata": {},
   "outputs": [],
   "source": []
  }
 ],
 "metadata": {
  "kernelspec": {
   "display_name": "Python 3",
   "language": "python",
   "name": "python3"
  },
  "language_info": {
   "codemirror_mode": {
    "name": "ipython",
    "version": 3
   },
   "file_extension": ".py",
   "mimetype": "text/x-python",
   "name": "python",
   "nbconvert_exporter": "python",
   "pygments_lexer": "ipython3",
   "version": "3.11.1"
  }
 },
 "nbformat": 4,
 "nbformat_minor": 2
}
